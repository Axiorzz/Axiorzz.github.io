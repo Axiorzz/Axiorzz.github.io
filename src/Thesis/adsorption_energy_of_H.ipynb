{
 "cells": [
  {
   "cell_type": "markdown",
   "metadata": {},
   "source": [
    "## 2.3\n",
    "Using the parameters from points 1 and 2, which of the following functional (PBE, PBEsol, RPBE, LDA) gives the most accurate estimation of the adsorption energy of H (with respect to H2 molecule)?"
   ]
  },
  {
   "cell_type": "code",
   "execution_count": 17,
   "metadata": {},
   "outputs": [
    {
     "name": "stdout",
     "output_type": "stream",
     "text": [
      "Overwriting ex2.py\n"
     ]
    }
   ],
   "source": [
    "%%writefile ex2.py\n",
    "import pickle\n",
    "from ase.build import molecule\n",
    "from ase.visualize import view\n",
    "from ase.optimize import BFGS\n",
    "from ase.parallel import parprint, paropen\n",
    "from gpaw import GPAW, PW\n",
    "\n",
    "energies = {}\n",
    "\n",
    "for xc in ['LDA' , 'PBE' , 'PBEsol', 'RPBE']:\n",
    "    for name in ['H2','H']: \n",
    "        system = molecule(name)\n",
    "        system.center(vacuum=10)\n",
    "        \n",
    "        calc = GPAW(h=0.20,\n",
    "                    mode=PW(750),\n",
    "                    basis='sz(dzp)',\n",
    "                    xc=xc,\n",
    "                    symmetry={'point_group': False},\n",
    "                    txt='unrelax-'+name+'-'+xc+'.txt'\n",
    "                    )\n",
    "        \n",
    "        #Hund's rule?\n",
    "        if name == 'H':\n",
    "            calc.set(hund=True)\n",
    "        \n",
    "        system.calc = calc\n",
    "        relax = BFGS(system,\n",
    "                        trajectory='relax-' + name + '.traj',\n",
    "                        logfile='relax-' + name + '.log')\n",
    "        relax.run(fmax=0.05)\n",
    "    \n",
    "        energy = system.get_potential_energy()\n",
    "        energies[(name, xc)] = energy\n",
    "        parprint(name, energy)\n",
    "\n",
    "    # Store energies dictionary for later\n",
    "    with paropen('energies_ex2.pckl', 'wb') as f:\n",
    "        pickle.dump(energies, f)\n",
    "        "
   ]
  },
  {
   "cell_type": "code",
   "execution_count": 18,
   "metadata": {},
   "outputs": [
    {
     "name": "stdout",
     "output_type": "stream",
     "text": [
      "No such task: 14934486, FAILED\n",
      "No such task: 14934483, FAILED\n",
      "No such task: 14934397, FAILED\n",
      "No such task: 14934371, FAILED\n",
      "No such task: 14936930, FAILED\n",
      "No such task: 14948814, FAILED\n",
      "No such task: 14948978, FAILED\n",
      "No such task: 14969195, FAILED\n",
      "No such task: 14979011, FAILED\n",
      "No such task: 14979014, FAILED\n",
      "No such task: 14992687, FAILED\n",
      "\u001b[94m14995823 ./ ex2.py 24:1h\u001b[0m\n",
      "1 task submitted\n"
     ]
    }
   ],
   "source": [
    "!mq submit -R 24:1h ex2.py"
   ]
  },
  {
   "cell_type": "code",
   "execution_count": 1,
   "metadata": {},
   "outputs": [
    {
     "name": "stdout",
     "output_type": "stream",
     "text": [
      "No such task: 14934486, FAILED\n",
      "No such task: 14934483, FAILED\n",
      "No such task: 14934397, FAILED\n",
      "No such task: 14934371, FAILED\n",
      "No such task: 14936930, FAILED\n",
      "No such task: 14948814, FAILED\n",
      "No such task: 14948978, FAILED\n",
      "No such task: 14969195, FAILED\n",
      "No such task: 14979011, FAILED\n",
      "No such task: 14979014, FAILED\n",
      "No such task: 14992687, FAILED\n",
      "No such task: 14996150, FAILED\n",
      "No such task: 15001229, FAILED\n",
      "No such task: 15001230, FAILED\n",
      "No such task: 15001249, FAILED\n",
      "No such task: 15010103, FAILED\n",
      "No such task: 15010111, FAILED\n",
      "No such task: 15001854, FAILED\n",
      "No such task: 15001865, FAILED\n",
      "No such task: 15020056, FAILED\n",
      "No such task: 15020059, FAILED\n",
      "\u001b[94mid       folder name                             res.         age state         time \u001b[0m\n",
      "\u001b[93m──────── ────── ──────────────────────────────── ───── ────────── ─────── ────────── \u001b[0m\n",
      "14995313 ./     exam2b_supercell_1.py            24:2d 4:18:24:15 \u001b[92mdone   \u001b[0m    6:34:45 \n",
      "14995809 ./     exam2b_supercell_1.py            24:2d 4:17:19:48 \u001b[92mdone   \u001b[0m    6:43:01 \n",
      "14996134 ./     exam2d_contest_Cu111.py          24:2d 4:16:31:37 \u001b[92mdone   \u001b[0m    5:27:03 \n",
      "14997681 ./     exam2a_contest.py                24:2d 4:09:07:30 \u001b[92mdone   \u001b[0m   17:01:05 \n",
      "14997683 ./     exam2d_contest_Cu111.py          24:2d 4:09:06:41 \u001b[92mdone   \u001b[0m    5:27:48 \n",
      "14997694 ./     exam2d_contest_Cu110.py          24:2d 4:09:04:03 \u001b[92mdone   \u001b[0m    6:52:26 \n",
      "15001421 ./     exam2c_RPBE.py                   24:2h 3:15:17:27 \u001b[92mdone   \u001b[0m      11:38 \n",
      "15001538 ./     exam2c_RPBE.py                   24:2h 3:14:34:18 \u001b[92mdone   \u001b[0m      12:12 \n",
      "15001539 ./     exam2c_PBE.py                    24:2h 3:14:33:52 \u001b[92mdone   \u001b[0m      12:24 \n",
      "15001546 ./     exam2c_PBEsol.py                 24:2h 3:14:33:27 \u001b[92mdone   \u001b[0m      12:42 \n",
      "15001549 ./     exam2c_LDA.py                    24:2h 3:14:32:49 \u001b[92mdone   \u001b[0m      12:18 \n",
      "15001554 ./     exam2a_contest.py                24:2d 3:14:31:47 \u001b[92mdone   \u001b[0m    9:36:45 \n",
      "15001556 ./     exam2b_supercell.py              24:2d 3:14:31:01 \u001b[92mdone   \u001b[0m    6:29:26 \n",
      "15001677 ./     exam2d_Ru111_absenergy.py        24:2h 3:13:47:39 \u001b[92mdone   \u001b[0m      42:42 \n",
      "15001848 ./     exam2d_contest_Cu111.py          24:2d 3:12:32:56 \u001b[92mdone   \u001b[0m    5:03:55 \n",
      "15010056 ./     exam2a_contest.py                24:2d 2:18:52:26 \u001b[91mFAILED \u001b[0m 1:12:20:32 \n",
      "15010104 ./     exam2d_Ru110_absenergy.py        24:2h 2:18:46:01 \u001b[91mTIMEOUT\u001b[0m    2:32:07 \n",
      "15010106 ./     exam2d_Cu110_absenergy.py        24:2h 2:18:43:54 \u001b[91mTIMEOUT\u001b[0m    2:30:00 \n",
      "15014267 ./     exam2d_Cu111_absenergy.py        24:1d 2:16:13:08 \u001b[92mdone   \u001b[0m    1:07:17 \n",
      "15014268 ./     exam2d_Cu110_absenergy.py        24:1d 2:16:12:58 \u001b[92mdone   \u001b[0m    2:10:17 \n",
      "15014270 ./     exam2d_Ru111_absenergy.py        24:1d 2:16:12:48 \u001b[92mdone   \u001b[0m    2:33:02 \n",
      "15014271 ./     exam2d_Ru110_absenergy.py        24:1d 2:16:12:36 \u001b[92mdone   \u001b[0m    4:06:45 \n",
      "15014272 ./     exam2e_CuRu111_absenergysites.py 24:1d 2:16:12:22 \u001b[92mdone   \u001b[0m    2:31:23 \n",
      "15014273 ./     exam2e_CuRu110_absenergysites.py 24:1d 2:16:12:06 \u001b[92mdone   \u001b[0m    2:58:42 \n",
      "15014352 ./     exam2c_LDA.py                    24:2h 2:15:43:15 \u001b[92mdone   \u001b[0m      47:50 \n",
      "15014353 ./     exam2c_PBE.py                    24:2h 2:15:42:37 \u001b[92mdone   \u001b[0m      46:13 \n",
      "15014354 ./     exam2c_PBEsol.py                 24:2h 2:15:41:55 \u001b[92mdone   \u001b[0m      47:19 \n",
      "15014359 ./     exam2c_RPBE.py                   24:2h 2:15:41:20 \u001b[92mdone   \u001b[0m      45:09 \n",
      "15018640 ./     exam2c_RPBE_Cu.py                24:2h 1:16:24:43 \u001b[92mdone   \u001b[0m      27:08 \n",
      "15018641 ./     exam2c_PBE_Cu.py                 24:2h 1:16:24:14 \u001b[92mdone   \u001b[0m      20:11 \n",
      "15018643 ./     exam2c_PBEsol_Cu.py              24:2h 1:16:23:37 \u001b[92mdone   \u001b[0m      29:20 \n",
      "15018644 ./     exam2c_LDA_Cu.py                 24:2h 1:16:22:55 \u001b[92mdone   \u001b[0m      31:02 \n",
      "15020119 ./     exam2e_CuRu110_absenergysites.py 24:6h   22:13:15 \u001b[92mdone   \u001b[0m    1:46:54 \n",
      "15020120 ./     exam2e_CuRu111_absenergysites.py 24:6h   22:13:08 \u001b[92mdone   \u001b[0m    2:31:05 \n",
      "15020122 ./     exam2d_Ru110_absenergy.py        24:6h   22:12:59 \u001b[92mdone   \u001b[0m    4:06:35 \n",
      "15020124 ./     exam2d_Ru111_absenergy.py        24:6h   22:12:52 \u001b[92mdone   \u001b[0m    1:39:35 \n",
      "15020125 ./     exam2d_Cu110_absenergy.py        24:6h   22:12:46 \u001b[92mdone   \u001b[0m    1:19:13 \n",
      "15020127 ./     exam2d_Cu111_absenergy.py        24:6h   22:12:40 \u001b[92mdone   \u001b[0m      36:05 \n",
      "15020392 ./     exam2e_CuRu110_absenergysites.py 24:6h   20:10:34 \u001b[92mdone   \u001b[0m    1:48:16 \n",
      "15020710 ./     exam2d_Ru110_absenergy.py        24:6h   17:16:35 \u001b[92mdone   \u001b[0m    4:10:30 \n",
      "15020711 ./     exam2d_Ru111_absenergy.py        24:6h   17:16:06 \u001b[92mdone   \u001b[0m    2:34:26 \n",
      "15020712 ./     exam2d_Cu110_absenergy.py        24:6h   17:15:50 \u001b[92mdone   \u001b[0m    2:15:08 \n",
      "15020713 ./     exam2d_Cu111_absenergy.py        24:6h   17:15:37 \u001b[92mdone   \u001b[0m      59:37 \n",
      "15021067 ./     exam2d_contest_Cu110.py          24:8h    7:46:13 \u001b[92mdone   \u001b[0m    7:07:15 \n",
      "15021068 ./     exam2d_contest_Ru110.py          24:8h    7:46:05 \u001b[93mrunning\u001b[0m    7:46:05 \n",
      "15021069 ./     exam2d_contest_Cu111.py          24:8h    7:45:56 \u001b[92mdone   \u001b[0m    4:48:26 \n",
      "\u001b[93m──────── ────── ──────────────────────────────── ───── ────────── ─────── ────────── \u001b[0m\n",
      "\u001b[92mdone\u001b[0m: 42, \u001b[91mFAILED\u001b[0m: 1, \u001b[91mTIMEOUT\u001b[0m: 2, \u001b[93mrunning\u001b[0m: 1, total: 46\n"
     ]
    }
   ],
   "source": [
    "!mq ls"
   ]
  },
  {
   "cell_type": "code",
   "execution_count": 32,
   "metadata": {},
   "outputs": [
    {
     "name": "stdout",
     "output_type": "stream",
     "text": [
      "H2_LDA: -6.704 eV\n",
      "H_LDA: -0.900 eV\n"
     ]
    }
   ],
   "source": [
    "import pickle\n",
    "with open('energies_ex2.pckl', 'rb') as f:\n",
    "    energies = pickle.load(f) \n",
    "H2_LDA = energies['H2','LDA'] \n",
    "H_LDA = energies['H','LDA'] \n",
    "\n",
    "print('H2_LDA: {:.3f} eV\\nH_LDA: {:.3f} eV'.format(H2_LDA, H_LDA))"
   ]
  },
  {
   "cell_type": "code",
   "execution_count": 3,
   "metadata": {},
   "outputs": [
    {
     "name": "stdout",
     "output_type": "stream",
     "text": [
      "Overwriting exam2c_PBE.py\n"
     ]
    }
   ],
   "source": [
    "%%writefile exam2c_PBE.py\n",
    "import pickle\n",
    "from ase.build import fcc111, add_adsorbate\n",
    "from ase.constraints import FixAtoms\n",
    "from ase.parallel import paropen, parprint\n",
    "from ase.optimize import BFGS\n",
    "from gpaw import GPAW, FermiDirac, PW\n",
    "\n",
    "k = 6\n",
    "ecut = 600\n",
    "a_Ru = 3.83\n",
    "slab = fcc111('Ru', a=a_Ru, size=(2, 2, 3), vacuum=10.0, periodic=True)\n",
    "\n",
    "# Use the FixAtoms constraint to disallow any movement during\n",
    "# relaxation of any atoms that has the property tag > 1.\n",
    "c = FixAtoms(indices=[atom.index for atom in slab if atom.tag == 3])\n",
    "slab.set_constraint(c)\n",
    "\n",
    "# Remember to visualize your structure\n",
    "if 0: # for viewing only. Set to 1 to view, and 0 to ignore\n",
    "    from ase.visualize import view\n",
    "    add_adsorbate(slab=slab, adsorbate='H',\n",
    "                  height=1.5, position='fcc')\n",
    "    view(slab)\n",
    "    assert False # Hack to break the execution by raising an error intentionally.\n",
    "\n",
    "energies_slab = {}\n",
    "\n",
    "\n",
    "# First we relax the slab\n",
    "settings = {'h': 0.20,\n",
    "            'mode': PW(ecut),\n",
    "            'basis': 'sz(dzp)',\n",
    "            'occupations': FermiDirac(0.05),\n",
    "            'kpts': (k, k, 1),\n",
    "            'symmetry': {'point_group': False},\n",
    "            'xc': 'PBE'} \n",
    "\n",
    "calc = GPAW(txt='relax-Ru111_clean.txt', **settings)\n",
    "\n",
    "slab.calc = calc\n",
    "parprint('Relaxing the clean surface slab!')\n",
    "\n",
    "relax = BFGS(slab, trajectory='relax-Ru111_clean.traj',\n",
    "            logfile='relax-Ru111_clean.log')\n",
    "relax.run(fmax=0.05)\n",
    "\n",
    "calc.write('Ru111_clean.gpw')  # We are going to need this gpw file later\n",
    "energies_slab['clean'] = slab.get_potential_energy()\n",
    "\n",
    "# Run through the configurations with a H adsorbate\n",
    "for position in ['fcc']:\n",
    "    parprint('Relaxing {}'.format(position))\n",
    "    atoms = slab.copy()  # Make a new clean copy\n",
    "    \n",
    "    add_adsorbate(slab=atoms, adsorbate='H',\n",
    "                  height=1.5, position=position)\n",
    "    name = 'H-'+position\n",
    "    \n",
    "    calc = GPAW(txt='relax-Ru111_' + name + '.txt', **settings)\n",
    "    \n",
    "    atoms.calc = calc\n",
    "    relax = BFGS(atoms, trajectory='relax-Ru111_' + name + '.traj',\n",
    "             logfile='relax-Ru111_' + name + '.log')\n",
    "    relax.run(fmax=0.05)\n",
    "    calc.write('Ru111_' + name + '.gpw')\n",
    "    energies_slab[position] = atoms.get_potential_energy()\n",
    "\n",
    "    # Get energies for H2 we calculated earlier\n",
    "    with paropen('energies_ex2.pckl', 'rb') as f:\n",
    "        energies = pickle.load(f)\n",
    "\n",
    "    # Calculate adsorption energies\n",
    "    e_fcc_H = energies_slab['fcc'] - energies_slab['clean'] - energies['H', 'PBEsol']\n",
    "    e_fcc_H2 = energies_slab['fcc'] - energies_slab['clean'] - 1/2. * energies['H2', 'PBEsol' ]\n",
    "    e_slab_fcc = energies_slab['fcc']\n",
    "    e_slab_clean = energies_slab['clean']\n",
    "    \n",
    "with paropen('exam2c_results_PBEsol.txt', 'w') as f:\n",
    "    print('fcc_H: {:.3f} eV\\nfcc_H2: {:.3f} eV\\nslab_fcc: {:.3f} eV\\nslab_clean: {:.3f} eV'.format(e_fcc_H,e_fcc_H2,e_slab_fcc,e_slab_clean), file=f)\n",
    "\n"
   ]
  },
  {
   "cell_type": "code",
   "execution_count": 4,
   "metadata": {},
   "outputs": [
    {
     "name": "stdout",
     "output_type": "stream",
     "text": [
      "No such task: 14934486, FAILED\n",
      "No such task: 14934483, FAILED\n",
      "No such task: 14934397, FAILED\n",
      "No such task: 14934371, FAILED\n",
      "No such task: 14936930, FAILED\n",
      "No such task: 14948814, FAILED\n",
      "No such task: 14948978, FAILED\n",
      "No such task: 14969195, FAILED\n",
      "No such task: 14979011, FAILED\n",
      "No such task: 14979014, FAILED\n",
      "No such task: 14992687, FAILED\n",
      "No such task: 14996150, FAILED\n",
      "No such task: 15001229, FAILED\n",
      "No such task: 15001230, FAILED\n",
      "No such task: 15001249, FAILED\n",
      "No such task: 15010103, FAILED\n",
      "No such task: 15010111, FAILED\n",
      "No such task: 15001854, FAILED\n",
      "No such task: 15001865, FAILED\n",
      "\u001b[94m15020059 ./ exam2c_PBE.py 24:2h\u001b[0m\n",
      "1 task submitted\n"
     ]
    }
   ],
   "source": [
    "!mq submit -R 24:2h exam2c_PBE.py"
   ]
  },
  {
   "cell_type": "code",
   "execution_count": 30,
   "metadata": {},
   "outputs": [
    {
     "name": "stdout",
     "output_type": "stream",
     "text": [
      "No such task: 14934486, FAILED\n",
      "No such task: 14934483, FAILED\n",
      "No such task: 14934397, FAILED\n",
      "No such task: 14934371, FAILED\n",
      "No such task: 14936930, FAILED\n",
      "No such task: 14948814, FAILED\n",
      "No such task: 14948978, FAILED\n",
      "No such task: 14969195, FAILED\n",
      "No such task: 14979011, FAILED\n",
      "No such task: 14979014, FAILED\n",
      "No such task: 14992687, FAILED\n",
      "No such task: 14996150, FAILED\n",
      "No such task: 15001229, FAILED\n",
      "No such task: 15001230, FAILED\n",
      "No such task: 15001249, FAILED\n",
      "No such task: 15010103, FAILED\n",
      "No such task: 15010111, FAILED\n",
      "No such task: 15001854, FAILED\n",
      "No such task: 15001865, FAILED\n",
      "No such task: 15020056, FAILED\n",
      "No such task: 15020059, FAILED\n",
      "\u001b[94mid       folder name                             res.         age state         time \u001b[0m\n",
      "\u001b[93m──────── ────── ──────────────────────────────── ───── ────────── ─────── ────────── \u001b[0m\n",
      "14995313 ./     exam2b_supercell_1.py            24:2d 3:20:32:06 \u001b[92mdone   \u001b[0m    6:34:45 \n",
      "14995809 ./     exam2b_supercell_1.py            24:2d 3:19:27:39 \u001b[92mdone   \u001b[0m    6:43:01 \n",
      "14996134 ./     exam2d_contest_Cu111.py          24:2d 3:18:39:28 \u001b[92mdone   \u001b[0m    5:27:03 \n",
      "14997681 ./     exam2a_contest.py                24:2d 3:11:15:21 \u001b[92mdone   \u001b[0m   17:01:05 \n",
      "14997683 ./     exam2d_contest_Cu111.py          24:2d 3:11:14:32 \u001b[92mdone   \u001b[0m    5:27:48 \n",
      "14997694 ./     exam2d_contest_Cu110.py          24:2d 3:11:11:54 \u001b[92mdone   \u001b[0m    6:52:26 \n",
      "15001421 ./     exam2c_RPBE.py                   24:2h 2:17:25:18 \u001b[92mdone   \u001b[0m      11:38 \n",
      "15001538 ./     exam2c_RPBE.py                   24:2h 2:16:42:09 \u001b[92mdone   \u001b[0m      12:12 \n",
      "15001539 ./     exam2c_PBE.py                    24:2h 2:16:41:43 \u001b[92mdone   \u001b[0m      12:24 \n",
      "15001546 ./     exam2c_PBEsol.py                 24:2h 2:16:41:18 \u001b[92mdone   \u001b[0m      12:42 \n",
      "15001549 ./     exam2c_LDA.py                    24:2h 2:16:40:41 \u001b[92mdone   \u001b[0m      12:18 \n",
      "15001554 ./     exam2a_contest.py                24:2d 2:16:39:38 \u001b[92mdone   \u001b[0m    9:36:45 \n",
      "15001556 ./     exam2b_supercell.py              24:2d 2:16:38:53 \u001b[92mdone   \u001b[0m    6:29:26 \n",
      "15001677 ./     exam2d_Ru111_absenergy.py        24:2h 2:15:55:30 \u001b[92mdone   \u001b[0m      42:42 \n",
      "15001848 ./     exam2d_contest_Cu111.py          24:2d 2:14:40:47 \u001b[92mdone   \u001b[0m    5:03:55 \n",
      "15010056 ./     exam2a_contest.py                24:2d 1:21:00:18 \u001b[91mFAILED \u001b[0m 1:12:20:32 \n",
      "15010104 ./     exam2d_Ru110_absenergy.py        24:2h 1:20:53:52 \u001b[91mTIMEOUT\u001b[0m    2:32:07 \n",
      "15010106 ./     exam2d_Cu110_absenergy.py        24:2h 1:20:51:45 \u001b[91mTIMEOUT\u001b[0m    2:30:00 \n",
      "15014267 ./     exam2d_Cu111_absenergy.py        24:1d 1:18:20:59 \u001b[92mdone   \u001b[0m    1:07:17 \n",
      "15014268 ./     exam2d_Cu110_absenergy.py        24:1d 1:18:20:49 \u001b[92mdone   \u001b[0m    2:10:17 \n",
      "15014270 ./     exam2d_Ru111_absenergy.py        24:1d 1:18:20:39 \u001b[92mdone   \u001b[0m    2:33:02 \n",
      "15014271 ./     exam2d_Ru110_absenergy.py        24:1d 1:18:20:27 \u001b[92mdone   \u001b[0m    4:06:45 \n",
      "15014272 ./     exam2e_CuRu111_absenergysites.py 24:1d 1:18:20:13 \u001b[92mdone   \u001b[0m    2:31:23 \n",
      "15014273 ./     exam2e_CuRu110_absenergysites.py 24:1d 1:18:19:58 \u001b[92mdone   \u001b[0m    2:58:42 \n",
      "15014352 ./     exam2c_LDA.py                    24:2h 1:17:51:06 \u001b[92mdone   \u001b[0m      47:50 \n",
      "15014353 ./     exam2c_PBE.py                    24:2h 1:17:50:28 \u001b[92mdone   \u001b[0m      46:13 \n",
      "15014354 ./     exam2c_PBEsol.py                 24:2h 1:17:49:46 \u001b[92mdone   \u001b[0m      47:19 \n",
      "15014359 ./     exam2c_RPBE.py                   24:2h 1:17:49:11 \u001b[92mdone   \u001b[0m      45:09 \n",
      "15018640 ./     exam2c_RPBE_Cu.py                24:2h   18:32:34 \u001b[92mdone   \u001b[0m      27:08 \n",
      "15018641 ./     exam2c_PBE_Cu.py                 24:2h   18:32:05 \u001b[92mdone   \u001b[0m      20:11 \n",
      "15018643 ./     exam2c_PBEsol_Cu.py              24:2h   18:31:28 \u001b[92mdone   \u001b[0m      29:20 \n",
      "15018644 ./     exam2c_LDA_Cu.py                 24:2h   18:30:46 \u001b[92mdone   \u001b[0m      31:02 \n",
      "15020119 ./     exam2e_CuRu110_absenergysites.py 24:6h      21:06 \u001b[93mrunning\u001b[0m      21:07 \n",
      "15020120 ./     exam2e_CuRu111_absenergysites.py 24:6h      21:00 \u001b[93mrunning\u001b[0m      21:00 \n",
      "15020122 ./     exam2d_Ru110_absenergy.py        24:6h      20:50 \u001b[93mrunning\u001b[0m      20:50 \n",
      "15020124 ./     exam2d_Ru111_absenergy.py        24:6h      20:44 \u001b[93mrunning\u001b[0m      20:45 \n",
      "15020125 ./     exam2d_Cu110_absenergy.py        24:6h      20:38 queued        0:00 \n",
      "15020127 ./     exam2d_Cu111_absenergy.py        24:6h      20:31 queued        0:00 \n",
      "\u001b[93m──────── ────── ──────────────────────────────── ───── ────────── ─────── ────────── \u001b[0m\n",
      "\u001b[92mdone\u001b[0m: 29, \u001b[91mFAILED\u001b[0m: 1, \u001b[91mTIMEOUT\u001b[0m: 2, \u001b[93mrunning\u001b[0m: 4, queued: 2, total: 38\n"
     ]
    }
   ],
   "source": [
    "!mq ls"
   ]
  },
  {
   "cell_type": "code",
   "execution_count": 55,
   "metadata": {},
   "outputs": [
    {
     "name": "stdout",
     "output_type": "stream",
     "text": [
      "fcc_H: -2.881 eV\r\n",
      "fcc_H2: -1.228 eV\r\n",
      "slab_fcc: -108.874 eV\r\n",
      "slab_clean: -104.876 eV\r\n"
     ]
    }
   ],
   "source": [
    "!cat exam2c_results_PBE.txt"
   ]
  },
  {
   "cell_type": "code",
   "execution_count": 56,
   "metadata": {},
   "outputs": [
    {
     "name": "stdout",
     "output_type": "stream",
     "text": [
      "fcc_H: -3.116 eV\r\n",
      "fcc_H2: -1.610 eV\r\n",
      "slab_fcc: -118.851 eV\r\n",
      "slab_clean: -114.678 eV\r\n"
     ]
    }
   ],
   "source": [
    "!cat exam2c_results_PBEsol.txt"
   ]
  },
  {
   "cell_type": "code",
   "execution_count": 57,
   "metadata": {
    "scrolled": true
   },
   "outputs": [
    {
     "name": "stdout",
     "output_type": "stream",
     "text": [
      "fcc_H: -2.749 eV\r\n",
      "fcc_H2: -0.925 eV\r\n",
      "slab_fcc: -101.497 eV\r\n",
      "slab_clean: -97.664 eV\r\n"
     ]
    }
   ],
   "source": [
    "!cat exam2c_results_RPBE.txt"
   ]
  },
  {
   "cell_type": "code",
   "execution_count": 79,
   "metadata": {
    "scrolled": false
   },
   "outputs": [
    {
     "name": "stdout",
     "output_type": "stream",
     "text": [
      "fcc_H: -3.453 eV\r\n",
      "fcc_H2: -2.003 eV\r\n",
      "slab_fcc: -125.527 eV\r\n",
      "slab_clean: -121.173 eV\r\n"
     ]
    }
   ],
   "source": [
    "!cat exam2c_results_LDA.txt"
   ]
  },
  {
   "cell_type": "code",
   "execution_count": null,
   "metadata": {},
   "outputs": [],
   "source": []
  },
  {
   "cell_type": "code",
   "execution_count": 20,
   "metadata": {},
   "outputs": [
    {
     "name": "stdout",
     "output_type": "stream",
     "text": [
      "Writing exam2c_LDA_Cu.py\n"
     ]
    }
   ],
   "source": [
    "%%writefile exam2c_LDA_Cu.py\n",
    "import pickle\n",
    "from ase.build import fcc111, add_adsorbate\n",
    "from ase.constraints import FixAtoms\n",
    "from ase.parallel import paropen, parprint\n",
    "from ase.optimize import BFGS\n",
    "from gpaw import GPAW, FermiDirac, PW\n",
    "\n",
    "k = 8\n",
    "ecut = 600\n",
    "#a_Ru = 3.83\n",
    "slab = fcc111('Cu', size=(2, 2, 3), vacuum=10.0, periodic=True)\n",
    "\n",
    "# Use the FixAtoms constraint to disallow any movement during\n",
    "# relaxation of any atoms that has the property tag > 1.\n",
    "c = FixAtoms(indices=[atom.index for atom in slab if atom.tag == 3])\n",
    "slab.set_constraint(c)\n",
    "\n",
    "# Remember to visualize your structure\n",
    "if 0: # for viewing only. Set to 1 to view, and 0 to ignore\n",
    "    from ase.visualize import view\n",
    "    add_adsorbate(slab=slab, adsorbate='H',\n",
    "                  height=1.5, position='fcc')\n",
    "    view(slab)\n",
    "    assert False # Hack to break the execution by raising an error intentionally.\n",
    "\n",
    "energies_slab = {}\n",
    "\n",
    "\n",
    "# First we relax the slab\n",
    "settings = {'h': 0.20,\n",
    "            'mode': PW(ecut),\n",
    "            'basis': 'sz(dzp)',\n",
    "            'occupations': FermiDirac(0.05),\n",
    "            'kpts': (k, k, 1),\n",
    "            'symmetry': {'point_group': False},\n",
    "            'xc': 'LDA'} \n",
    "\n",
    "calc = GPAW(txt='relax-Cu111_clean.txt', **settings)\n",
    "\n",
    "slab.calc = calc\n",
    "parprint('Relaxing the clean surface slab!')\n",
    "\n",
    "relax = BFGS(slab, trajectory='relax-Cu111_clean.traj',\n",
    "            logfile='relax-Cu111_clean.log')\n",
    "relax.run(fmax=0.05)\n",
    "\n",
    "calc.write('Cu111_clean.gpw')  # We are going to need this gpw file later\n",
    "energies_slab['clean'] = slab.get_potential_energy()\n",
    "\n",
    "# Run through the configurations with a H adsorbate\n",
    "for position in ['fcc']:\n",
    "    parprint('Relaxing {}'.format(position))\n",
    "    atoms = slab.copy()  # Make a new clean copy\n",
    "    \n",
    "    add_adsorbate(slab=atoms, adsorbate='H',\n",
    "                  height=1.5, position=position)\n",
    "    name = 'H-'+position\n",
    "    \n",
    "    calc = GPAW(txt='relax-Cu111_' + name + '.txt', **settings)\n",
    "    \n",
    "    atoms.calc = calc\n",
    "    relax = BFGS(atoms, trajectory='relax-Cu111_' + name + '.traj',\n",
    "             logfile='relax-Cu111_' + name + '.log')\n",
    "    relax.run(fmax=0.05)\n",
    "    calc.write('Cu111_' + name + '.gpw')\n",
    "    energies_slab[position] = atoms.get_potential_energy()\n",
    "\n",
    "    # Get energies for H2 we calculated earlier\n",
    "    with paropen('energies_ex2.pckl', 'rb') as f:\n",
    "        energies = pickle.load(f)\n",
    "\n",
    "    # Calculate adsorption energies\n",
    "    e_fcc_H = energies_slab['fcc'] - energies_slab['clean'] - energies['H', 'LDA']\n",
    "    e_fcc_H2 = 2. * energies_slab['fcc'] - 2. * energies_slab['clean'] - energies['H2', 'LDA' ]\n",
    "    e_slab_fcc = energies_slab['fcc']\n",
    "    e_slab_clean = energies_slab['clean']\n",
    "    \n",
    "with paropen('exam2c_results_LDA_Cu.txt', 'w') as f:\n",
    "    print('fcc_H: {:.3f} eV\\nfcc_H2: {:.3f} eV\\nslab_fcc: {:.3f} eV\\nslab_clean: {:.3f} eV'.format(e_fcc_H,e_fcc_H2,e_slab_fcc,e_slab_clean), file=f)\n",
    "\n"
   ]
  },
  {
   "cell_type": "code",
   "execution_count": 21,
   "metadata": {},
   "outputs": [
    {
     "name": "stdout",
     "output_type": "stream",
     "text": [
      "No such task: 14934486, FAILED\n",
      "No such task: 14934483, FAILED\n",
      "No such task: 14934397, FAILED\n",
      "No such task: 14934371, FAILED\n",
      "No such task: 14936930, FAILED\n",
      "No such task: 14948814, FAILED\n",
      "No such task: 14948978, FAILED\n",
      "No such task: 14969195, FAILED\n",
      "No such task: 14979011, FAILED\n",
      "No such task: 14979014, FAILED\n",
      "No such task: 14992687, FAILED\n",
      "No such task: 14996150, FAILED\n",
      "No such task: 15001229, FAILED\n",
      "No such task: 15001230, FAILED\n",
      "No such task: 15001249, FAILED\n",
      "No such task: 15010103, FAILED\n",
      "No such task: 15010111, FAILED\n",
      "\u001b[94m15018644 ./ exam2c_LDA_Cu.py 24:2h\u001b[0m\n",
      "1 task submitted\n"
     ]
    }
   ],
   "source": [
    "!mq submit -R 24:2h exam2c_LDA_Cu.py"
   ]
  },
  {
   "cell_type": "code",
   "execution_count": 29,
   "metadata": {},
   "outputs": [
    {
     "name": "stdout",
     "output_type": "stream",
     "text": [
      "fcc_H: -2.467 eV\r\n",
      "fcc_H2: -0.399 eV\r\n",
      "slab_fcc: -44.051 eV\r\n",
      "slab_clean: -40.467 eV\r\n"
     ]
    }
   ],
   "source": [
    "!cat exam2c_results_PBE_Cu.txt"
   ]
  },
  {
   "cell_type": "code",
   "execution_count": 30,
   "metadata": {},
   "outputs": [
    {
     "name": "stdout",
     "output_type": "stream",
     "text": [
      "fcc_H: -2.702 eV\r\n",
      "fcc_H2: -0.782 eV\r\n",
      "slab_fcc: -50.029 eV\r\n",
      "slab_clean: -46.270 eV\r\n"
     ]
    }
   ],
   "source": [
    "!cat exam2c_results_PBEsol_Cu.txt"
   ]
  },
  {
   "cell_type": "code",
   "execution_count": 27,
   "metadata": {},
   "outputs": [
    {
     "name": "stdout",
     "output_type": "stream",
     "text": [
      "fcc_H: -2.320 eV\r\n",
      "fcc_H2: -0.068 eV\r\n",
      "slab_fcc: -38.596 eV\r\n",
      "slab_clean: -35.192 eV\r\n"
     ]
    }
   ],
   "source": [
    "!cat exam2c_results_RPBE_Cu.txt"
   ]
  },
  {
   "cell_type": "code",
   "execution_count": 31,
   "metadata": {},
   "outputs": [
    {
     "name": "stdout",
     "output_type": "stream",
     "text": [
      "fcc_H: -3.015 eV\r\n",
      "fcc_H2: -1.127 eV\r\n",
      "slab_fcc: -54.800 eV\r\n",
      "slab_clean: -50.884 eV\r\n"
     ]
    }
   ],
   "source": [
    "!cat exam2c_results_LDA_Cu.txt"
   ]
  },
  {
   "cell_type": "markdown",
   "metadata": {},
   "source": [
    "## 2.4 \n",
    "What is the adsorption energy of H on all the possible adsorpion sites of a FCC(111) and (110) surfaces of XXX and YYY? Discuss what the adsorption energy can be a descriptor of."
   ]
  },
  {
   "cell_type": "code",
   "execution_count": 11,
   "metadata": {},
   "outputs": [
    {
     "name": "stdout",
     "output_type": "stream",
     "text": [
      "Overwriting exam2d_contest_Cu111.py\n"
     ]
    }
   ],
   "source": [
    "%%writefile exam2d_contest_Cu111.py\n",
    "import pickle\n",
    "from ase.build import fcc111, add_adsorbate\n",
    "from ase.lattice.cubic import FaceCenteredCubic\n",
    "from ase.constraints import FixAtoms\n",
    "from ase.parallel import paropen, parprint\n",
    "from ase.optimize import BFGS\n",
    "from gpaw import GPAW, FermiDirac, PW\n",
    "from ase.io import write\n",
    "from ase.build import molecule\n",
    "import numpy as np\n",
    "from ase.optimize import QuasiNewton\n",
    "#from ase.optimize import BFGSLineSearch\n",
    "from ase.optimize import LBFGS\n",
    "\n",
    "\n",
    "nlayers = range(1,4) #number of slab layers\n",
    "kpts = range(1,7) #number of kpoints\n",
    "ecuts = range(200, 801, 100) #PW energy cut-off\n",
    "a_Cu = 3.62\n",
    "vacuum = 10.0\n",
    "height = 1.5 #height of adsorbate\n",
    "\n",
    "# ------clean Cu slab-------\n",
    "slab = fcc111('Cu', size=(2, 2, 3), vacuum=vacuum, periodic=True)\n",
    "c = FixAtoms(indices=[atom.index for atom in slab if atom.tag == 3])\n",
    "slab.set_constraint(c)\n",
    "\n",
    "# Remember to visualize your structure\n",
    "if 0: # for viewing only. Set to 1 to view, and 0 to ignore\n",
    "    from ase.visualize import view\n",
    "    add_adsorbate(slab=slab, adsorbate='H',\n",
    "                  height=1.5, position='fcc')\n",
    "    view(slab)\n",
    "    assert False # Hack to break the execution by raising an error intentionally.\n",
    "\n",
    "\n",
    "\n",
    "Cu_energies = {}\n",
    "HCu_energies = {}\n",
    "energies_abs = {}\n",
    "\n",
    "\n",
    "for k in kpts:  \n",
    "    \n",
    "    Cu_energies[k] = {}\n",
    "    HCu_energies[k] = {}\n",
    "    energies_abs[k] = {}\n",
    "    \n",
    "    for ecut in ecuts:\n",
    "        \n",
    "        settings = {'h': 0.20,\n",
    "            'mode': PW(ecut),\n",
    "            'basis': 'sz(dzp)',\n",
    "            'occupations': FermiDirac(0.05),\n",
    "            'kpts': (k, k, 1),\n",
    "            'symmetry': {'point_group': False},\n",
    "            'xc': 'PBE'}\n",
    "        \n",
    "        calc = GPAW(txt='ex4-relax-Cu111_clean.txt', **settings)    \n",
    "        slab.calc = calc\n",
    "        parprint('Relaxing the clean surface slab!')\n",
    "        \n",
    "        relax = BFGS(slab, trajectory='ex4-relax-Cu111_clean.traj',\n",
    "                    logfile='ex1-relax-Cu111_clean.log')\n",
    "        relax.run(fmax=0.05)\n",
    "        \n",
    "        calc.write('ex4-Cu111_clean.gpw')  # We are going to need this gpw file later\n",
    "        Cu_energies[k][ecut] = slab.get_potential_energy()\n",
    "        \n",
    "        atoms = slab.copy()  # Make a new clean copy\n",
    "        \n",
    "        add_adsorbate(slab=atoms, adsorbate='H',\n",
    "                height=1.5, position='fcc')\n",
    "        name = 'H-'+ 'fcc'\n",
    "        \n",
    "        calc = GPAW(txt='ex4-relax-Cu111_' + name + '.txt', **settings)\n",
    "        \n",
    "        atoms.calc = calc\n",
    "        relax = BFGS(atoms, trajectory='ex4-relax-Cu111_' + name + '.traj',\n",
    "                    logfile='ex4-relax-Cu111_' + name + '.log')\n",
    "        relax.run(fmax=0.05)\n",
    "        calc.write('ex4-Cu111_' + name + '.gpw')\n",
    "        HCu_energies[k][ecut] = atoms.get_potential_energy()\n",
    "        \n",
    "        # Get energies for H2 we calculated earlier\n",
    "        with paropen('energies_ex2.pckl', 'rb') as f:\n",
    "            energies = pickle.load(f)\n",
    "        \n",
    "        # ads energies\n",
    "        energies_abs[k][ecut] = HCu_energies[k][ecut] - Cu_energies[k][ecut] - 1/2. * energies['H2','PBE']\n",
    "        \n",
    "        \n",
    "        with paropen('project/Cu_energies_ex2d.pckl', 'wb') as f:\n",
    "            pickle.dump(Cu_energies, f)\n",
    "        with paropen('project/HCu_energies_ex2d.pckl','wb') as f:\n",
    "            pickle.dump(HCu_energies, f)\n",
    "        with paropen('project/energies_abs_ex2d.pckl','wb') as f:\n",
    "            pickle.dump(energies_abs, f)\n",
    "\n"
   ]
  },
  {
   "cell_type": "code",
   "execution_count": 3,
   "metadata": {},
   "outputs": [
    {
     "name": "stdout",
     "output_type": "stream",
     "text": [
      "No such task: 14934486, FAILED\n",
      "No such task: 14934483, FAILED\n",
      "No such task: 14934397, FAILED\n",
      "No such task: 14934371, FAILED\n",
      "No such task: 14936930, FAILED\n",
      "No such task: 14948814, FAILED\n",
      "No such task: 14948978, FAILED\n",
      "No such task: 14969195, FAILED\n",
      "No such task: 14979011, FAILED\n",
      "No such task: 14979014, FAILED\n",
      "No such task: 14992687, FAILED\n",
      "No such task: 14996150, FAILED\n",
      "No such task: 15001229, FAILED\n",
      "No such task: 15001230, FAILED\n",
      "No such task: 15001249, FAILED\n",
      "No such task: 15010103, FAILED\n",
      "No such task: 15010111, FAILED\n",
      "No such task: 15001854, FAILED\n",
      "No such task: 15001865, FAILED\n",
      "No such task: 15020056, FAILED\n",
      "No such task: 15020059, FAILED\n",
      "\u001b[94m15021069 ./ exam2d_contest_Cu111.py 24:8h\u001b[0m\n",
      "1 task submitted\n"
     ]
    }
   ],
   "source": [
    "!mq submit -R 24:8h exam2d_contest_Cu111.py"
   ]
  },
  {
   "cell_type": "code",
   "execution_count": 49,
   "metadata": {},
   "outputs": [
    {
     "name": "stdout",
     "output_type": "stream",
     "text": [
      "No such task: 14934486, FAILED\r\n",
      "No such task: 14934483, FAILED\r\n",
      "No such task: 14934397, FAILED\r\n",
      "No such task: 14934371, FAILED\r\n",
      "No such task: 14936930, FAILED\r\n",
      "No such task: 14948814, FAILED\r\n",
      "No such task: 14948978, FAILED\r\n",
      "No such task: 14969195, FAILED\r\n",
      "No such task: 14979011, FAILED\r\n",
      "No such task: 14979014, FAILED\r\n",
      "No such task: 14992687, FAILED\r\n",
      "No such task: 14996150, FAILED\r\n",
      "No such task: 15001229, FAILED\r\n",
      "No such task: 15001230, FAILED\r\n",
      "No such task: 15001249, FAILED\r\n",
      "No such task: 15010103, FAILED\r\n",
      "No such task: 15010111, FAILED\r\n",
      "No such task: 15001854, FAILED\r\n",
      "No such task: 15001865, FAILED\r\n",
      "No such task: 15020056, FAILED\r\n",
      "No such task: 15020059, FAILED\r\n",
      "\u001b[94mid       folder name                             res.         age state         time \u001b[0m\r\n",
      "\u001b[93m──────── ────── ──────────────────────────────── ───── ────────── ─────── ────────── \u001b[0m\r\n",
      "14995313 ./     exam2b_supercell_1.py            24:2d 3:21:28:58 \u001b[92mdone   \u001b[0m    6:34:45 \r\n",
      "14995809 ./     exam2b_supercell_1.py            24:2d 3:20:24:31 \u001b[92mdone   \u001b[0m    6:43:01 \r\n",
      "14996134 ./     exam2d_contest_Cu111.py          24:2d 3:19:36:20 \u001b[92mdone   \u001b[0m    5:27:03 \r\n",
      "14997681 ./     exam2a_contest.py                24:2d 3:12:12:14 \u001b[92mdone   \u001b[0m   17:01:05 \r\n",
      "14997683 ./     exam2d_contest_Cu111.py          24:2d 3:12:11:25 \u001b[92mdone   \u001b[0m    5:27:48 \r\n",
      "14997694 ./     exam2d_contest_Cu110.py          24:2d 3:12:08:46 \u001b[92mdone   \u001b[0m    6:52:26 \r\n",
      "15001421 ./     exam2c_RPBE.py                   24:2h 2:18:22:11 \u001b[92mdone   \u001b[0m      11:38 \r\n",
      "15001538 ./     exam2c_RPBE.py                   24:2h 2:17:39:01 \u001b[92mdone   \u001b[0m      12:12 \r\n",
      "15001539 ./     exam2c_PBE.py                    24:2h 2:17:38:35 \u001b[92mdone   \u001b[0m      12:24 \r\n",
      "15001546 ./     exam2c_PBEsol.py                 24:2h 2:17:38:11 \u001b[92mdone   \u001b[0m      12:42 \r\n",
      "15001549 ./     exam2c_LDA.py                    24:2h 2:17:37:33 \u001b[92mdone   \u001b[0m      12:18 \r\n",
      "15001554 ./     exam2a_contest.py                24:2d 2:17:36:31 \u001b[92mdone   \u001b[0m    9:36:45 \r\n",
      "15001556 ./     exam2b_supercell.py              24:2d 2:17:35:45 \u001b[92mdone   \u001b[0m    6:29:26 \r\n",
      "15001677 ./     exam2d_Ru111_absenergy.py        24:2h 2:16:52:22 \u001b[92mdone   \u001b[0m      42:42 \r\n",
      "15001848 ./     exam2d_contest_Cu111.py          24:2d 2:15:37:39 \u001b[92mdone   \u001b[0m    5:03:55 \r\n",
      "15010056 ./     exam2a_contest.py                24:2d 1:21:57:10 \u001b[91mFAILED \u001b[0m 1:12:20:32 \r\n",
      "15010104 ./     exam2d_Ru110_absenergy.py        24:2h 1:21:50:44 \u001b[91mTIMEOUT\u001b[0m    2:32:07 \r\n",
      "15010106 ./     exam2d_Cu110_absenergy.py        24:2h 1:21:48:37 \u001b[91mTIMEOUT\u001b[0m    2:30:00 \r\n",
      "15014267 ./     exam2d_Cu111_absenergy.py        24:1d 1:19:17:51 \u001b[92mdone   \u001b[0m    1:07:17 \r\n",
      "15014268 ./     exam2d_Cu110_absenergy.py        24:1d 1:19:17:41 \u001b[92mdone   \u001b[0m    2:10:17 \r\n",
      "15014270 ./     exam2d_Ru111_absenergy.py        24:1d 1:19:17:32 \u001b[92mdone   \u001b[0m    2:33:02 \r\n",
      "15014271 ./     exam2d_Ru110_absenergy.py        24:1d 1:19:17:20 \u001b[92mdone   \u001b[0m    4:06:45 \r\n",
      "15014272 ./     exam2e_CuRu111_absenergysites.py 24:1d 1:19:17:05 \u001b[92mdone   \u001b[0m    2:31:23 \r\n",
      "15014273 ./     exam2e_CuRu110_absenergysites.py 24:1d 1:19:16:50 \u001b[92mdone   \u001b[0m    2:58:42 \r\n",
      "15014352 ./     exam2c_LDA.py                    24:2h 1:18:47:58 \u001b[92mdone   \u001b[0m      47:50 \r\n",
      "15014353 ./     exam2c_PBE.py                    24:2h 1:18:47:21 \u001b[92mdone   \u001b[0m      46:13 \r\n",
      "15014354 ./     exam2c_PBEsol.py                 24:2h 1:18:46:38 \u001b[92mdone   \u001b[0m      47:19 \r\n",
      "15014359 ./     exam2c_RPBE.py                   24:2h 1:18:46:04 \u001b[92mdone   \u001b[0m      45:09 \r\n",
      "15018640 ./     exam2c_RPBE_Cu.py                24:2h   19:29:26 \u001b[92mdone   \u001b[0m      27:08 \r\n",
      "15018641 ./     exam2c_PBE_Cu.py                 24:2h   19:28:58 \u001b[92mdone   \u001b[0m      20:11 \r\n",
      "15018643 ./     exam2c_PBEsol_Cu.py              24:2h   19:28:20 \u001b[92mdone   \u001b[0m      29:20 \r\n",
      "15018644 ./     exam2c_LDA_Cu.py                 24:2h   19:27:38 \u001b[92mdone   \u001b[0m      31:02 \r\n",
      "15020119 ./     exam2e_CuRu110_absenergysites.py 24:6h    1:17:59 \u001b[93mrunning\u001b[0m    1:18:00 \r\n",
      "15020120 ./     exam2e_CuRu111_absenergysites.py 24:6h    1:17:52 \u001b[93mrunning\u001b[0m    1:17:53 \r\n",
      "15020122 ./     exam2d_Ru110_absenergy.py        24:6h    1:17:42 \u001b[93mrunning\u001b[0m    1:17:43 \r\n",
      "15020124 ./     exam2d_Ru111_absenergy.py        24:6h    1:17:36 \u001b[93mrunning\u001b[0m    1:17:37 \r\n",
      "15020125 ./     exam2d_Cu110_absenergy.py        24:6h    1:17:30 queued        0:00 \r\n",
      "15020127 ./     exam2d_Cu111_absenergy.py        24:6h    1:17:24 queued        0:00 \r\n",
      "\u001b[93m──────── ────── ──────────────────────────────── ───── ────────── ─────── ────────── \u001b[0m\r\n",
      "\u001b[92mdone\u001b[0m: 29, \u001b[91mFAILED\u001b[0m: 1, \u001b[91mTIMEOUT\u001b[0m: 2, \u001b[93mrunning\u001b[0m: 4, queued: 2, total: 38\r\n"
     ]
    }
   ],
   "source": [
    "!mq ls"
   ]
  },
  {
   "cell_type": "code",
   "execution_count": 2,
   "metadata": {},
   "outputs": [
    {
     "data": {
      "image/png": "[encoded data removed]",
      "text/plain": [
       "<Figure size 432x288 with 1 Axes>"
      ]
     },
     "metadata": {
      "needs_background": "light"
     },
     "output_type": "display_data"
    }
   ],
   "source": [
    "import pickle\n",
    "import matplotlib.pyplot as plt\n",
    "%matplotlib inline\n",
    "with open('project/Ru_energies_ex2d.pckl', 'rb') as f:\n",
    "    Ru_energies = pickle.load(f)\n",
    "with open('project/energies_abs_ex2d.pckl', 'rb') as f:\n",
    "    energies_abs = pickle.load(f)\n",
    "with open('project/HRu_energies_ex2d.pckl', 'rb') as f:\n",
    "    HRu_energies = pickle.load(f)    \n",
    "\n",
    "\n",
    "kpts = range(2,7) #number of kpoints\n",
    "ecuts = range(200, 801, 100) #PW energy cut-off\n",
    "\n",
    "# We plot the potential energy as a function of energy cutoff for each\n",
    "# k-point sampling. The idea is to find the right tradeoff between\n",
    "# computational cost and accuracy, i.e. the lowest parameters that\n",
    "# give a good enough result.\n",
    "\n",
    "for k in kpts:\n",
    "    #HRu = []\n",
    "    #Ru = []\n",
    "    ads = []\n",
    "    for ecut in ecuts:\n",
    "        #Ru.append(Ru_energies[k][ecut])\n",
    "        ads.append(energies_abs[k][ecut])\n",
    "    plt.plot(ecuts, ads, label='k: '+str(k))\n",
    "plt.xlabel('energy cutoff')\n",
    "plt.ylabel('Adsorption energy')\n",
    "plt.legend(loc='best')\n",
    "plt.show()"
   ]
  },
  {
   "cell_type": "code",
   "execution_count": 13,
   "metadata": {},
   "outputs": [
    {
     "name": "stdout",
     "output_type": "stream",
     "text": [
      "Overwriting exam2d_contest_Cu110.py\n"
     ]
    }
   ],
   "source": [
    "%%writefile exam2d_contest_Cu110.py\n",
    "import pickle\n",
    "from ase.build import fcc110, add_adsorbate\n",
    "from ase.lattice.cubic import FaceCenteredCubic\n",
    "from ase.constraints import FixAtoms\n",
    "from ase.parallel import paropen, parprint\n",
    "from ase.optimize import BFGS\n",
    "from gpaw import GPAW, FermiDirac, PW\n",
    "from ase.io import write\n",
    "from ase.build import molecule\n",
    "import numpy as np\n",
    "from ase.optimize import QuasiNewton\n",
    "#from ase.optimize import BFGSLineSearch\n",
    "from ase.optimize import LBFGS\n",
    "\n",
    "\n",
    "nlayers = range(1,4) #number of slab layers\n",
    "kpts = range(1,7) #number of kpoints\n",
    "ecuts = range(200, 801, 100) #PW energy cut-off\n",
    "#a_Cu = 3.62\n",
    "vacuum = 10.0\n",
    "height = 1.5 #height of adsorbate\n",
    "\n",
    "# ------clean Ru slab-------\n",
    "slab = fcc110('Cu', size=(2, 2, 3), vacuum=vacuum, periodic=True)\n",
    "c = FixAtoms(indices=[atom.index for atom in slab if atom.tag == 3])\n",
    "slab.set_constraint(c)\n",
    "\n",
    "# Remember to visualize your structure\n",
    "if 0: # for viewing only. Set to 1 to view, and 0 to ignore\n",
    "    from ase.visualize import view\n",
    "    add_adsorbate(slab=slab, adsorbate='H',\n",
    "                  height=1.5, position='hollow')\n",
    "    view(slab)\n",
    "    assert False # Hack to break the execution by raising an error intentionally.\n",
    "\n",
    "\n",
    "\n",
    "Cu_energies = {}\n",
    "HCu_energies = {}\n",
    "energies_abs = {}\n",
    "\n",
    "\n",
    "for k in kpts:  \n",
    "    \n",
    "    Cu_energies[k] = {}\n",
    "    HCu_energies[k] = {}\n",
    "    energies_abs[k] = {}\n",
    "    \n",
    "    for ecut in ecuts:\n",
    "        \n",
    "        settings = {'h': 0.20,\n",
    "            'mode': PW(ecut),\n",
    "            'basis': 'sz(dzp)',\n",
    "            'occupations': FermiDirac(0.05),\n",
    "            'kpts': (k, k, 1),\n",
    "            'symmetry': {'point_group': False},\n",
    "            'xc': 'PBE'}\n",
    "        \n",
    "        calc = GPAW(txt='ex4-relax-Cu110_clean.txt', **settings)    \n",
    "        slab.calc = calc\n",
    "        parprint('Relaxing the clean surface slab!')\n",
    "        \n",
    "        relax = BFGS(slab, trajectory='ex4-relax-Cu110_clean.traj',\n",
    "                    logfile='ex1-relax-Cu110_clean.log')\n",
    "        relax.run(fmax=0.05)\n",
    "        \n",
    "        calc.write('ex4-Cu110_clean.gpw')  # We are going to need this gpw file later\n",
    "        Cu_energies[k][ecut] = slab.get_potential_energy()\n",
    "        \n",
    "        atoms = slab.copy()  # Make a new clean copy\n",
    "        \n",
    "        add_adsorbate(slab=atoms, adsorbate='H',\n",
    "                height=1.5, position='hollow')\n",
    "        name = 'H-'+ 'hollow'\n",
    "        \n",
    "        calc = GPAW(txt='ex4-relax-Cu110_' + name + '.txt', **settings)\n",
    "        \n",
    "        atoms.calc = calc\n",
    "        relax = BFGS(atoms, trajectory='ex4-relax-Cu110_' + name + '.traj',\n",
    "                    logfile='ex4-relax-Cu110_' + name + '.log')\n",
    "        relax.run(fmax=0.05)\n",
    "        calc.write('ex4-Cu110_' + name + '.gpw')\n",
    "        HCu_energies[k][ecut] = atoms.get_potential_energy()\n",
    "        \n",
    "        # Get energies for H2 we calculated earlier\n",
    "        with paropen('energies_ex2.pckl', 'rb') as f:\n",
    "            energies = pickle.load(f)\n",
    "        \n",
    "        # ads energies\n",
    "        energies_abs[k][ecut] = HCu_energies[k][ecut] - Cu_energies[k][ecut] - 1/2. * energies['H2','PBE']\n",
    "        \n",
    "        \n",
    "        with paropen('project/Cu_energies_ex2d_110.pckl', 'wb') as f:\n",
    "            pickle.dump(Cu_energies, f)\n",
    "        with paropen('project/HCu_energies_ex2d_110.pckl','wb') as f:\n",
    "            pickle.dump(HCu_energies, f)\n",
    "        with paropen('project/energies_abs_ex2d_110.pckl','wb') as f:\n",
    "            pickle.dump(energies_abs, f)\n"
   ]
  },
  {
   "cell_type": "code",
   "execution_count": 1,
   "metadata": {},
   "outputs": [
    {
     "name": "stdout",
     "output_type": "stream",
     "text": [
      "No such task: 14934486, FAILED\n",
      "No such task: 14934483, FAILED\n",
      "No such task: 14934397, FAILED\n",
      "No such task: 14934371, FAILED\n",
      "No such task: 14936930, FAILED\n",
      "No such task: 14948814, FAILED\n",
      "No such task: 14948978, FAILED\n",
      "No such task: 14969195, FAILED\n",
      "No such task: 14979011, FAILED\n",
      "No such task: 14979014, FAILED\n",
      "No such task: 14992687, FAILED\n",
      "No such task: 14996150, FAILED\n",
      "No such task: 15001229, FAILED\n",
      "No such task: 15001230, FAILED\n",
      "No such task: 15001249, FAILED\n",
      "No such task: 15010103, FAILED\n",
      "No such task: 15010111, FAILED\n",
      "No such task: 15001854, FAILED\n",
      "No such task: 15001865, FAILED\n",
      "No such task: 15020056, FAILED\n",
      "No such task: 15020059, FAILED\n",
      "\u001b[94m15021067 ./ exam2d_contest_Cu110.py 24:8h\u001b[0m\n",
      "1 task submitted\n"
     ]
    }
   ],
   "source": [
    "!mq submit -R 24:8h exam2d_contest_Cu110.py"
   ]
  },
  {
   "cell_type": "code",
   "execution_count": 5,
   "metadata": {},
   "outputs": [
    {
     "data": {
      "image/png": "[encoded data removed]",
      "text/plain": [
       "<Figure size 432x288 with 1 Axes>"
      ]
     },
     "metadata": {
      "needs_background": "light"
     },
     "output_type": "display_data"
    }
   ],
   "source": [
    "import pickle\n",
    "import matplotlib.pyplot as plt\n",
    "%matplotlib inline\n",
    "with open('project/Cu_energies_ex2d_110.pckl', 'rb') as f:\n",
    "    Cu_energies = pickle.load(f)\n",
    "with open('project/energies_abs_ex2d_110.pckl', 'rb') as f:\n",
    "    energies_abs = pickle.load(f)\n",
    "with open('project/HCu_energies_ex2d_110.pckl', 'rb') as f:\n",
    "    HCu_energies = pickle.load(f)    \n",
    "\n",
    "kpts = range(2,7) #number of kpoints\n",
    "ecuts = range(200, 801, 100) #PW energy cut-off\n",
    "\n",
    "# We plot the potential energy as a function of energy cutoff for each\n",
    "# k-point sampling. The idea is to find the right tradeoff between\n",
    "# computational cost and accuracy, i.e. the lowest parameters that\n",
    "# give a good enough result.\n",
    "\n",
    "for k in kpts:\n",
    "    #HRu = []\n",
    "    #Ru = []\n",
    "    ads = []\n",
    "    for ecut in ecuts:\n",
    "        #Ru.append(Ru_energies[k][ecut])\n",
    "        ads.append(energies_abs[k][ecut])\n",
    "    plt.plot(ecuts, ads, label='k: '+str(k))\n",
    "plt.xlabel('energy cutoff')\n",
    "plt.ylabel('Adsorption energy')\n",
    "plt.legend(loc='best')\n",
    "plt.show()"
   ]
  },
  {
   "cell_type": "code",
   "execution_count": 15,
   "metadata": {},
   "outputs": [
    {
     "name": "stdout",
     "output_type": "stream",
     "text": [
      "Overwriting exam2d_contest_Ru110.py\n"
     ]
    }
   ],
   "source": [
    "%%writefile exam2d_contest_Ru110.py\n",
    "import pickle\n",
    "from ase.build import fcc110, add_adsorbate\n",
    "from ase.lattice.cubic import FaceCenteredCubic\n",
    "from ase.constraints import FixAtoms\n",
    "from ase.parallel import paropen, parprint\n",
    "from ase.optimize import BFGS\n",
    "from gpaw import GPAW, FermiDirac, PW\n",
    "from ase.io import write\n",
    "from ase.build import molecule\n",
    "import numpy as np\n",
    "from ase.optimize import QuasiNewton\n",
    "#from ase.optimize import BFGSLineSearch\n",
    "from ase.optimize import LBFGS\n",
    "\n",
    "\n",
    "nlayers = range(1,4) #number of slab layers\n",
    "kpts = range(1,7) #number of kpoints\n",
    "ecuts = range(200, 801, 100) #PW energy cut-off\n",
    "a_Ru = 3.83\n",
    "vacuum = 10.0\n",
    "height = 1.5 #height of adsorbate\n",
    "\n",
    "# ------clean Ru slab-------\n",
    "slab = fcc110('Ru', a=a_Ru, size=(2, 2, 3), vacuum=vacuum, periodic=True)\n",
    "c = FixAtoms(indices=[atom.index for atom in slab if atom.tag == 3])\n",
    "slab.set_constraint(c)\n",
    "\n",
    "# Remember to visualize your structure\n",
    "if 0: # for viewing only. Set to 1 to view, and 0 to ignore\n",
    "    from ase.visualize import view\n",
    "    add_adsorbate(slab=slab, adsorbate='H',\n",
    "                  height=1.5, position='hollow')\n",
    "    view(slab)\n",
    "    assert False # Hack to break the execution by raising an error intentionally.\n",
    "\n",
    "\n",
    "\n",
    "Ru_energies = {}\n",
    "HRu_energies = {}\n",
    "energies_abs = {}\n",
    "\n",
    "\n",
    "for k in kpts:  \n",
    "    \n",
    "    Ru_energies[k] = {}\n",
    "    HRu_energies[k] = {}\n",
    "    energies_abs[k] = {}\n",
    "    \n",
    "    for ecut in ecuts:\n",
    "        \n",
    "        settings = {'h': 0.20,\n",
    "            'mode': PW(ecut),\n",
    "            'basis': 'sz(dzp)',\n",
    "            'occupations': FermiDirac(0.05),\n",
    "            'kpts': (k, k, 1),\n",
    "            'symmetry': {'point_group': False},\n",
    "            'xc': 'PBE'}\n",
    "        \n",
    "        calc = GPAW(txt='ex4-relax-Ru110_clean.txt', **settings)    \n",
    "        slab.calc = calc\n",
    "        parprint('Relaxing the clean surface slab!')\n",
    "        \n",
    "        relax = BFGS(slab, trajectory='ex4-relax-Ru110_clean.traj',\n",
    "                    logfile='ex4-relax-Ru110_clean.log')\n",
    "        relax.run(fmax=0.05)\n",
    "        \n",
    "        calc.write('ex4-Ru110_clean.gpw')  # We are going to need this gpw file later\n",
    "        Ru_energies[k][ecut] = slab.get_potential_energy()\n",
    "        \n",
    "        atoms = slab.copy()  # Make a new clean copy\n",
    "        \n",
    "        add_adsorbate(slab=atoms, adsorbate='H',\n",
    "                height=1.5, position='hollow')\n",
    "        name = 'H-'+ 'hollow'\n",
    "        \n",
    "        calc = GPAW(txt='ex4-relax-Ru110_' + name + '.txt', **settings)\n",
    "        \n",
    "        atoms.calc = calc\n",
    "        relax = BFGS(atoms, trajectory='ex4-relax-Ru110_' + name + '.traj',\n",
    "                    logfile='ex4-relax-Ru110_' + name + '.log')\n",
    "        relax.run(fmax=0.05)\n",
    "        calc.write('ex4-Ru110_' + name + '.gpw')\n",
    "        HRu_energies[k][ecut] = atoms.get_potential_energy()\n",
    "        \n",
    "        # Get energies for H2 we calculated earlier\n",
    "        with paropen('energies_ex2.pckl', 'rb') as f:\n",
    "            energies = pickle.load(f)\n",
    "        \n",
    "        # ads energies\n",
    "        energies_abs[k][ecut] = HRu_energies[k][ecut] - Ru_energies[k][ecut] - 1/2. * energies['H2','PBE']\n",
    "        \n",
    "        \n",
    "        with paropen('project/Ru_energies_ex2d_Ru110.pckl', 'wb') as f:\n",
    "            pickle.dump(Ru_energies, f)\n",
    "        with paropen('project/HRu_energies_ex2d_Ru110.pckl','wb') as f:\n",
    "            pickle.dump(HRu_energies, f)\n",
    "        with paropen('project/energies_abs_ex2a_Ru110.pckl','wb') as f:\n",
    "            pickle.dump(energies_abs, f)"
   ]
  },
  {
   "cell_type": "code",
   "execution_count": 2,
   "metadata": {},
   "outputs": [
    {
     "name": "stdout",
     "output_type": "stream",
     "text": [
      "No such task: 14934486, FAILED\n",
      "No such task: 14934483, FAILED\n",
      "No such task: 14934397, FAILED\n",
      "No such task: 14934371, FAILED\n",
      "No such task: 14936930, FAILED\n",
      "No such task: 14948814, FAILED\n",
      "No such task: 14948978, FAILED\n",
      "No such task: 14969195, FAILED\n",
      "No such task: 14979011, FAILED\n",
      "No such task: 14979014, FAILED\n",
      "No such task: 14992687, FAILED\n",
      "No such task: 14996150, FAILED\n",
      "No such task: 15001229, FAILED\n",
      "No such task: 15001230, FAILED\n",
      "No such task: 15001249, FAILED\n",
      "No such task: 15010103, FAILED\n",
      "No such task: 15010111, FAILED\n",
      "No such task: 15001854, FAILED\n",
      "No such task: 15001865, FAILED\n",
      "No such task: 15020056, FAILED\n",
      "No such task: 15020059, FAILED\n",
      "\u001b[94m15021068 ./ exam2d_contest_Ru110.py 24:8h\u001b[0m\n",
      "1 task submitted\n"
     ]
    }
   ],
   "source": [
    "!mq submit -R 24:8h exam2d_contest_Ru110.py"
   ]
  },
  {
   "cell_type": "code",
   "execution_count": null,
   "metadata": {},
   "outputs": [],
   "source": []
  },
  {
   "cell_type": "code",
   "execution_count": null,
   "metadata": {},
   "outputs": [],
   "source": []
  },
  {
   "cell_type": "code",
   "execution_count": 9,
   "metadata": {},
   "outputs": [
    {
     "name": "stdout",
     "output_type": "stream",
     "text": [
      "Overwriting exam2d_Cu111_absenergy.py\n"
     ]
    }
   ],
   "source": [
    "%%writefile exam2d_Cu111_absenergy.py\n",
    "# Mathias\n",
    "import pickle\n",
    "from ase.build import fcc111, add_adsorbate\n",
    "from ase.constraints import FixAtoms\n",
    "from ase.parallel import paropen, parprint\n",
    "from ase.optimize import BFGS\n",
    "from gpaw import GPAW, FermiDirac, PW\n",
    "\n",
    "# The fcc111 function returns an ASE Atoms object. It is a slab with\n",
    "# the chosen size and vacuum in the z direction. The function also\n",
    "# conveniently sets a tag on each layer of the slab; the top layer has\n",
    "# tag=1, second layer tag=2 and so on.\n",
    "slab = fcc111('Cu', size=(2, 2, 3), vacuum=10.0, periodic=True)\n",
    "\n",
    "# Use the FixAtoms constraint to disallow any movement during\n",
    "# relaxation of any atoms that has the property tag > 1.\n",
    "c = FixAtoms(indices=[atom.index for atom in slab if atom.tag == 3])\n",
    "slab.set_constraint(c)\n",
    "\n",
    "# Remember to visualize your structure\n",
    "if 0: # for viewing only. Set to 1 to view, and 0 to ignore\n",
    "    from ase.visualize import view\n",
    "    add_adsorbate(slab=slab, adsorbate='H',\n",
    "                  height=1.5, position='fcc')\n",
    "    view(slab)\n",
    "    assert False # Hack to break the execution by raising an error intentionally.\n",
    "\n",
    "energies_slab = {}\n",
    "\n",
    "\n",
    "# First we relax the slab\n",
    "settings = {'h': 0.20,\n",
    "            'mode': PW(600),\n",
    "            'basis': 'sz(dzp)',\n",
    "            'occupations': FermiDirac(0.05),\n",
    "            'kpts': (8, 8, 1),\n",
    "            'symmetry': {'point_group': False},\n",
    "            'xc': 'PBE'}\n",
    "\n",
    "calc = GPAW(txt='relax-Cu111_clean.txt', **settings)\n",
    "\n",
    "slab.calc = calc\n",
    "parprint('Relaxing the clean surface slab!')\n",
    "\n",
    "relax = BFGS(slab, trajectory='relax-Cu111_clean.traj',\n",
    "             logfile='relax-Cu111_clean.log')\n",
    "relax.run(fmax=0.05)\n",
    "\n",
    "calc.write('Ru111_clean.gpw')  # We are going to need this gpw file later\n",
    "energies_slab['clean'] = slab.get_potential_energy()\n",
    "\n",
    "# Run through the configurations with a H adsorbate\n",
    "for position in ['ontop', 'bridge', 'fcc', 'hcp']:\n",
    "    parprint('Relaxing {}'.format(position))\n",
    "    atoms = slab.copy()  # Make a new clean copy\n",
    "    \n",
    "    add_adsorbate(slab=atoms, adsorbate='H',\n",
    "                  height=1.5, position=position)\n",
    "    name = 'H-'+position\n",
    "    \n",
    "    calc = GPAW(txt='relax-Cu111_' + name + '.txt', **settings)\n",
    "    \n",
    "    atoms.calc = calc\n",
    "    relax = BFGS(atoms, trajectory='relax-Cu111_' + name + '.traj',\n",
    "                 logfile='relax-Cu111_' + name + '.log')\n",
    "    relax.run(fmax=0.05)\n",
    "    calc.write('Cu111_' + name + '.gpw')\n",
    "    energies_slab[position] = atoms.get_potential_energy()\n",
    "\n",
    "# Get energies for H2 we calculated earlier\n",
    "with paropen('energies_ex2.pckl', 'rb') as f:\n",
    "    energies = pickle.load(f)\n",
    "\n",
    "# Calculate adsorption energies\n",
    "e_ontop = energies_slab['ontop'] - energies_slab['clean'] - 1/2. * energies['H2', 'PBE']\n",
    "e_bridge = energies_slab['bridge'] - energies_slab['clean'] - 1/2. * energies['H2', 'PBE']\n",
    "e_fcc = energies_slab['fcc'] - energies_slab['clean'] - 1/2. * energies['H2', 'PBE']\n",
    "e_hcp = energies_slab['hcp'] - energies_slab['clean'] - 1/2. * energies['H2', 'PBE']\n",
    "\n",
    "with paropen('ex3_results_Cu111.txt', 'w') as f:\n",
    "    print('Ontop: {:.3f} eV\\nBridge: {:.3f} eV\\nfcc: {:.3f} eV\\nhcp: {:.3f} eV'.format(e_ontop, e_bridge, e_fcc, e_hcp), file=f)"
   ]
  },
  {
   "cell_type": "code",
   "execution_count": 10,
   "metadata": {},
   "outputs": [
    {
     "name": "stdout",
     "output_type": "stream",
     "text": [
      "No such task: 14934486, FAILED\n",
      "No such task: 14934483, FAILED\n",
      "No such task: 14934397, FAILED\n",
      "No such task: 14934371, FAILED\n",
      "No such task: 14936930, FAILED\n",
      "No such task: 14948814, FAILED\n",
      "No such task: 14948978, FAILED\n",
      "No such task: 14969195, FAILED\n",
      "No such task: 14979011, FAILED\n",
      "No such task: 14979014, FAILED\n",
      "No such task: 14992687, FAILED\n",
      "No such task: 14996150, FAILED\n",
      "No such task: 15001229, FAILED\n",
      "No such task: 15001230, FAILED\n",
      "No such task: 15001249, FAILED\n",
      "No such task: 15010103, FAILED\n",
      "No such task: 15010111, FAILED\n",
      "No such task: 15001854, FAILED\n",
      "No such task: 15001865, FAILED\n",
      "No such task: 15020056, FAILED\n",
      "No such task: 15020059, FAILED\n",
      "\u001b[94m15020713 ./ exam2d_Cu111_absenergy.py 24:6h\u001b[0m\n",
      "1 task submitted\n"
     ]
    }
   ],
   "source": [
    "!mq submit -R 24:6h exam2d_Cu111_absenergy.py"
   ]
  },
  {
   "cell_type": "code",
   "execution_count": 7,
   "metadata": {},
   "outputs": [
    {
     "name": "stdout",
     "output_type": "stream",
     "text": [
      "Overwriting exam2d_Cu110_absenergy.py\n"
     ]
    }
   ],
   "source": [
    "%%writefile exam2d_Cu110_absenergy.py\n",
    "# Mathias\n",
    "import pickle\n",
    "from ase.build import fcc110, add_adsorbate\n",
    "from ase.constraints import FixAtoms\n",
    "from ase.parallel import paropen, parprint\n",
    "from ase.optimize import BFGS\n",
    "from gpaw import GPAW, FermiDirac, PW\n",
    "\n",
    "# The fcc111 function returns an ASE Atoms object. It is a slab with\n",
    "# the chosen size and vacuum in the z direction. The function also\n",
    "# conveniently sets a tag on each layer of the slab; the top layer has\n",
    "# tag=1, second layer tag=2 and so on.\n",
    "slab = fcc110('Cu', size=(2, 2, 3), vacuum=10.0, periodic=True)\n",
    "\n",
    "# Use the FixAtoms constraint to disallow any movement during\n",
    "# relaxation of any atoms that has the property tag > 1.\n",
    "c = FixAtoms(indices=[atom.index for atom in slab if atom.tag == 3])\n",
    "slab.set_constraint(c)\n",
    "\n",
    "# Remember to visualize your structure\n",
    "if 0: # for viewing only. Set to 1 to view, and 0 to ignore\n",
    "    from ase.visualize import view\n",
    "    add_adsorbate(slab=slab, adsorbate='H',\n",
    "                  height=1.5, position='hollow')\n",
    "    view(slab)\n",
    "    assert False # Hack to break the execution by raising an error intentionally.\n",
    "\n",
    "energies_slab = {}\n",
    "\n",
    "\n",
    "# First we relax the slab\n",
    "settings = {'h': 0.20,\n",
    "            'mode': PW(600),\n",
    "            'basis': 'sz(dzp)',\n",
    "            'occupations': FermiDirac(0.05),\n",
    "            'kpts': (8, 8, 1),\n",
    "            'symmetry': {'point_group': False},\n",
    "            'xc': 'PBE'}\n",
    "\n",
    "calc = GPAW(txt='relax-Cu110_clean.txt', **settings)\n",
    "\n",
    "slab.calc = calc\n",
    "parprint('Relaxing the clean surface slab!')\n",
    "\n",
    "relax = BFGS(slab, trajectory='relax-Cu110_clean.traj',\n",
    "             logfile='relax-Cu110_clean.log')\n",
    "relax.run(fmax=0.05)\n",
    "\n",
    "calc.write('Cu110_clean.gpw')  # We are going to need this gpw file later\n",
    "energies_slab['clean'] = slab.get_potential_energy()\n",
    "\n",
    "# Run through the configurations with a H adsorbate\n",
    "for position in ['ontop','longbridge','shortbridge','hollow']:\n",
    "    parprint('Relaxing {}'.format(position))\n",
    "    atoms = slab.copy()  # Make a new clean copy\n",
    "    \n",
    "    add_adsorbate(slab=atoms, adsorbate='H',\n",
    "                  height=1.5, position=position)\n",
    "    name = 'H-'+position\n",
    "    \n",
    "    calc = GPAW(txt='relax-Cu110_' + name + '.txt', **settings)\n",
    "    \n",
    "    atoms.calc = calc\n",
    "    relax = BFGS(atoms, trajectory='relax-Cu110_' + name + '.traj',\n",
    "                 logfile='relax-Cu110_' + name + '.log')\n",
    "    relax.run(fmax=0.05)\n",
    "    calc.write('Cu110_' + name + '.gpw')\n",
    "    energies_slab[position] = atoms.get_potential_energy()\n",
    "\n",
    "# Get energies for H2 we calculated earlier\n",
    "with paropen('energies_ex2.pckl', 'rb') as f:\n",
    "    energies = pickle.load(f)\n",
    "\n",
    "# Calculate adsorption energies\n",
    "e_ontop = energies_slab['ontop'] - energies_slab['clean'] - 1/2. * energies['H2', 'PBE']\n",
    "e_bridge = energies_slab['longbridge'] - energies_slab['clean'] - 1/2. * energies['H2', 'PBE']\n",
    "e_fcc = energies_slab['shortbridge'] - energies_slab['clean'] - 1/2. * energies['H2', 'PBE']\n",
    "e_hcp = energies_slab['hollow'] - energies_slab['clean'] - 1/2. * energies['H2', 'PBE']\n",
    "\n",
    "with paropen('ex3_results_Cu110.txt', 'w') as f:\n",
    "    print('Ontop: {:.3f} eV\\nlongbridge: {:.3f} eV\\nshortbridge: {:.3f} eV\\nhollow: {:.3f} eV'.format(e_ontop, e_bridge, e_fcc, e_hcp), file=f)"
   ]
  },
  {
   "cell_type": "code",
   "execution_count": 8,
   "metadata": {},
   "outputs": [
    {
     "name": "stdout",
     "output_type": "stream",
     "text": [
      "No such task: 14934486, FAILED\n",
      "No such task: 14934483, FAILED\n",
      "No such task: 14934397, FAILED\n",
      "No such task: 14934371, FAILED\n",
      "No such task: 14936930, FAILED\n",
      "No such task: 14948814, FAILED\n",
      "No such task: 14948978, FAILED\n",
      "No such task: 14969195, FAILED\n",
      "No such task: 14979011, FAILED\n",
      "No such task: 14979014, FAILED\n",
      "No such task: 14992687, FAILED\n",
      "No such task: 14996150, FAILED\n",
      "No such task: 15001229, FAILED\n",
      "No such task: 15001230, FAILED\n",
      "No such task: 15001249, FAILED\n",
      "No such task: 15010103, FAILED\n",
      "No such task: 15010111, FAILED\n",
      "No such task: 15001854, FAILED\n",
      "No such task: 15001865, FAILED\n",
      "No such task: 15020056, FAILED\n",
      "No such task: 15020059, FAILED\n",
      "\u001b[94m15020712 ./ exam2d_Cu110_absenergy.py 24:6h\u001b[0m\n",
      "1 task submitted\n"
     ]
    }
   ],
   "source": [
    "!mq submit -R 24:6h exam2d_Cu110_absenergy.py"
   ]
  },
  {
   "cell_type": "code",
   "execution_count": 5,
   "metadata": {},
   "outputs": [
    {
     "name": "stdout",
     "output_type": "stream",
     "text": [
      "Overwriting exam2d_Ru111_absenergy.py\n"
     ]
    }
   ],
   "source": [
    "%%writefile exam2d_Ru111_absenergy.py\n",
    "# Mathias\n",
    "import pickle\n",
    "from ase.build import fcc111, add_adsorbate\n",
    "from ase.constraints import FixAtoms\n",
    "from ase.parallel import paropen, parprint\n",
    "from ase.optimize import BFGS\n",
    "from gpaw import GPAW, FermiDirac, PW\n",
    "\n",
    "# The fcc111 function returns an ASE Atoms object. It is a slab with\n",
    "# the chosen size and vacuum in the z direction. The function also\n",
    "# conveniently sets a tag on each layer of the slab; the top layer has\n",
    "# tag=1, second layer tag=2 and so on.\n",
    "slab = fcc111('Ru', a=3.83, size=(2, 2, 3), vacuum=10.0, periodic=True)\n",
    "\n",
    "# Use the FixAtoms constraint to disallow any movement during\n",
    "# relaxation of any atoms that has the property tag > 1.\n",
    "c = FixAtoms(indices=[atom.index for atom in slab if atom.tag == 3])\n",
    "slab.set_constraint(c)\n",
    "\n",
    "# Remember to visualize your structure\n",
    "if 0: # for viewing only. Set to 1 to view, and 0 to ignore\n",
    "    from ase.visualize import view\n",
    "    add_adsorbate(slab=slab, adsorbate='H',\n",
    "                  height=1.5, position='fcc')\n",
    "    view(slab)\n",
    "    assert False # Hack to break the execution by raising an error intentionally.\n",
    "\n",
    "energies_slab = {}\n",
    "\n",
    "\n",
    "# First we relax the slab\n",
    "settings = {'h': 0.20,\n",
    "            'mode': PW(600),\n",
    "            'basis': 'sz(dzp)',\n",
    "            'occupations': FermiDirac(0.05),\n",
    "            'kpts': (8, 8, 1),\n",
    "            'symmetry': {'point_group': False},\n",
    "            'xc': 'PBE'}\n",
    "\n",
    "calc = GPAW(txt='relax-Ru111_clean.txt', **settings)\n",
    "\n",
    "slab.calc = calc\n",
    "parprint('Relaxing the clean surface slab!')\n",
    "\n",
    "relax = BFGS(slab, trajectory='relax-Ru111_clean.traj',\n",
    "             logfile='relax-Ru111_clean.log')\n",
    "relax.run(fmax=0.05)\n",
    "\n",
    "calc.write('Ru111_clean.gpw')  # We are going to need this gpw file later\n",
    "energies_slab['clean'] = slab.get_potential_energy()\n",
    "\n",
    "# Run through the configurations with a H adsorbate\n",
    "for position in ['ontop', 'bridge', 'fcc', 'hcp']:\n",
    "    parprint('Relaxing {}'.format(position))\n",
    "    atoms = slab.copy()  # Make a new clean copy\n",
    "    \n",
    "    add_adsorbate(slab=atoms, adsorbate='H',\n",
    "                  height=1.5, position=position)\n",
    "    name = 'H-'+position\n",
    "    \n",
    "    calc = GPAW(txt='relax-Ru111_' + name + '.txt', **settings)\n",
    "    \n",
    "    atoms.calc = calc\n",
    "    relax = BFGS(atoms, trajectory='relax-Ru111_' + name + '.traj',\n",
    "                 logfile='relax-Ru111_' + name + '.log')\n",
    "    relax.run(fmax=0.05)\n",
    "    calc.write('Ru111_' + name + '.gpw')\n",
    "    energies_slab[position] = atoms.get_potential_energy()\n",
    "\n",
    "# Get energies for H2 we calculated earlier\n",
    "with paropen('energies_ex2.pckl', 'rb') as f:\n",
    "    energies = pickle.load(f)\n",
    "\n",
    "# Calculate adsorption energies\n",
    "e_ontop = energies_slab['ontop'] - energies_slab['clean'] -  1/2. * energies['H2', 'PBE']\n",
    "e_bridge = energies_slab['bridge'] - energies_slab['clean'] -  1/2. * energies['H2', 'PBE']\n",
    "e_fcc = energies_slab['fcc'] - energies_slab['clean'] -  1/2. * energies['H2', 'PBE']\n",
    "e_hcp = energies_slab['hcp'] - energies_slab['clean'] -  1/2. * energies['H2', 'PBE']\n",
    "\n",
    "with paropen('ex3_results_Ru111.txt', 'w') as f:\n",
    "    print('Ontop: {:.3f} eV\\nBridge: {:.3f} eV\\nfcc: {:.3f} eV\\nhcp: {:.3f} eV'.format(e_ontop, e_bridge, e_fcc, e_hcp), file=f)"
   ]
  },
  {
   "cell_type": "code",
   "execution_count": 6,
   "metadata": {},
   "outputs": [
    {
     "name": "stdout",
     "output_type": "stream",
     "text": [
      "No such task: 14934486, FAILED\n",
      "No such task: 14934483, FAILED\n",
      "No such task: 14934397, FAILED\n",
      "No such task: 14934371, FAILED\n",
      "No such task: 14936930, FAILED\n",
      "No such task: 14948814, FAILED\n",
      "No such task: 14948978, FAILED\n",
      "No such task: 14969195, FAILED\n",
      "No such task: 14979011, FAILED\n",
      "No such task: 14979014, FAILED\n",
      "No such task: 14992687, FAILED\n",
      "No such task: 14996150, FAILED\n",
      "No such task: 15001229, FAILED\n",
      "No such task: 15001230, FAILED\n",
      "No such task: 15001249, FAILED\n",
      "No such task: 15010103, FAILED\n",
      "No such task: 15010111, FAILED\n",
      "No such task: 15001854, FAILED\n",
      "No such task: 15001865, FAILED\n",
      "No such task: 15020056, FAILED\n",
      "No such task: 15020059, FAILED\n",
      "\u001b[94m15020711 ./ exam2d_Ru111_absenergy.py 24:6h\u001b[0m\n",
      "1 task submitted\n"
     ]
    }
   ],
   "source": [
    "!mq submit -R 24:6h exam2d_Ru111_absenergy.py"
   ]
  },
  {
   "cell_type": "code",
   "execution_count": null,
   "metadata": {},
   "outputs": [],
   "source": []
  },
  {
   "cell_type": "code",
   "execution_count": 3,
   "metadata": {},
   "outputs": [
    {
     "name": "stdout",
     "output_type": "stream",
     "text": [
      "Overwriting exam2d_Ru110_absenergy.py\n"
     ]
    }
   ],
   "source": [
    "%%writefile exam2d_Ru110_absenergy.py\n",
    "# Mathias\n",
    "import pickle\n",
    "from ase.build import fcc110, add_adsorbate\n",
    "from ase.constraints import FixAtoms\n",
    "from ase.parallel import paropen, parprint\n",
    "from ase.optimize import BFGS\n",
    "from gpaw import GPAW, FermiDirac, PW\n",
    "\n",
    "# The fcc111 function returns an ASE Atoms object. It is a slab with\n",
    "# the chosen size and vacuum in the z direction. The function also\n",
    "# conveniently sets a tag on each layer of the slab; the top layer has\n",
    "# tag=1, second layer tag=2 and so on.\n",
    "slab = fcc110('Ru', a=3.81 , size=(2, 2, 3), vacuum=10.0, periodic=True)\n",
    "\n",
    "# Use the FixAtoms constraint to disallow any movement during\n",
    "# relaxation of any atoms that has the property tag > 1.\n",
    "c = FixAtoms(indices=[atom.index for atom in slab if atom.tag == 3])\n",
    "slab.set_constraint(c)\n",
    "\n",
    "# Remember to visualize your structure\n",
    "if 0: # for viewing only. Set to 1 to view, and 0 to ignore\n",
    "    from ase.visualize import view\n",
    "    add_adsorbate(slab=slab, adsorbate='H',\n",
    "                  height=1.5, position='hollow')\n",
    "    view(slab)\n",
    "    assert False # Hack to break the execution by raising an error intentionally.\n",
    "\n",
    "energies_slab = {}\n",
    "\n",
    "\n",
    "# First we relax the slab\n",
    "settings = {'h': 0.20,\n",
    "            'mode': PW(600),\n",
    "            'basis': 'sz(dzp)',\n",
    "            'occupations': FermiDirac(0.05),\n",
    "            'kpts': (8, 8, 1),\n",
    "            'symmetry': {'point_group': False},\n",
    "            'xc': 'PBE'}\n",
    "\n",
    "calc = GPAW(txt='relax-Ru110_clean.txt', **settings)\n",
    "\n",
    "slab.calc = calc\n",
    "parprint('Relaxing the clean surface slab!')\n",
    "\n",
    "relax = BFGS(slab, trajectory='relax-Ru110_clean.traj',\n",
    "             logfile='relax-Ru110_clean.log')\n",
    "relax.run(fmax=0.05)\n",
    "\n",
    "calc.write('Ru110_clean.gpw')  # We are going to need this gpw file later\n",
    "energies_slab['clean'] = slab.get_potential_energy()\n",
    "\n",
    "# Run through the configurations with a H adsorbate\n",
    "for position in ['ontop','longbridge','shortbridge','hollow']:\n",
    "    parprint('Relaxing {}'.format(position))\n",
    "    atoms = slab.copy()  # Make a new clean copy\n",
    "    \n",
    "    add_adsorbate(slab=atoms, adsorbate='H',\n",
    "                  height=1.5, position=position)\n",
    "    name = 'H-'+position\n",
    "    \n",
    "    calc = GPAW(txt='relax-Ru110_' + name + '.txt', **settings)\n",
    "    \n",
    "    atoms.calc = calc\n",
    "    relax = BFGS(atoms, trajectory='relax-Ru110_' + name + '.traj',\n",
    "                 logfile='relax-Ru110_' + name + '.log')\n",
    "    relax.run(fmax=0.05)\n",
    "    calc.write('Ru110_' + name + '.gpw')\n",
    "    energies_slab[position] = atoms.get_potential_energy()\n",
    "\n",
    "# Get energies for H2 we calculated earlier\n",
    "with paropen('energies_ex2.pckl', 'rb') as f:\n",
    "    energies = pickle.load(f)\n",
    "\n",
    "# Calculate adsorption energies\n",
    "e_ontop = energies_slab['ontop'] - energies_slab['clean'] - 1/2. * energies['H2', 'PBE']\n",
    "e_bridge = energies_slab['longbridge'] - energies_slab['clean'] - 1/2. * energies['H2', 'PBE']\n",
    "e_fcc = energies_slab['shortbridge'] - energies_slab['clean'] - 1/2. * energies['H2', 'PBE']\n",
    "e_hcp = energies_slab['hollow'] - energies_slab['clean'] - 1/2. * energies['H2', 'PBE']\n",
    "\n",
    "with paropen('ex3_results_Ru110.txt', 'w') as f:\n",
    "    print('Ontop: {:.3f} eV\\nlongbridge: {:.3f} eV\\nshortbridge: {:.3f} eV\\nhollow: {:.3f} eV'.format(e_ontop, e_bridge, e_fcc, e_hcp), file=f)"
   ]
  },
  {
   "cell_type": "code",
   "execution_count": 4,
   "metadata": {},
   "outputs": [
    {
     "name": "stdout",
     "output_type": "stream",
     "text": [
      "No such task: 14934486, FAILED\n",
      "No such task: 14934483, FAILED\n",
      "No such task: 14934397, FAILED\n",
      "No such task: 14934371, FAILED\n",
      "No such task: 14936930, FAILED\n",
      "No such task: 14948814, FAILED\n",
      "No such task: 14948978, FAILED\n",
      "No such task: 14969195, FAILED\n",
      "No such task: 14979011, FAILED\n",
      "No such task: 14979014, FAILED\n",
      "No such task: 14992687, FAILED\n",
      "No such task: 14996150, FAILED\n",
      "No such task: 15001229, FAILED\n",
      "No such task: 15001230, FAILED\n",
      "No such task: 15001249, FAILED\n",
      "No such task: 15010103, FAILED\n",
      "No such task: 15010111, FAILED\n",
      "No such task: 15001854, FAILED\n",
      "No such task: 15001865, FAILED\n",
      "No such task: 15020056, FAILED\n",
      "No such task: 15020059, FAILED\n",
      "\u001b[94m15020710 ./ exam2d_Ru110_absenergy.py 24:6h\u001b[0m\n",
      "1 task submitted\n"
     ]
    }
   ],
   "source": [
    "!mq submit -R 24:6h exam2d_Ru110_absenergy.py"
   ]
  },
  {
   "cell_type": "code",
   "execution_count": null,
   "metadata": {},
   "outputs": [],
   "source": []
  },
  {
   "cell_type": "code",
   "execution_count": 4,
   "metadata": {
    "scrolled": true
   },
   "outputs": [
    {
     "name": "stdout",
     "output_type": "stream",
     "text": [
      "Ontop: -0.001 eV\r\n",
      "Bridge: -0.617 eV\r\n",
      "fcc: -0.618 eV\r\n",
      "hcp: -0.581 eV\r\n"
     ]
    }
   ],
   "source": [
    "!cat ex3_results_Ru111.txt"
   ]
  },
  {
   "cell_type": "code",
   "execution_count": 5,
   "metadata": {},
   "outputs": [
    {
     "name": "stdout",
     "output_type": "stream",
     "text": [
      "Ontop: 0.071 eV\r\n",
      "longbridge: -0.243 eV\r\n",
      "shortbridge: -0.545 eV\r\n",
      "hollow: -0.372 eV\r\n"
     ]
    }
   ],
   "source": [
    "!cat ex3_results_Ru110.txt"
   ]
  },
  {
   "cell_type": "code",
   "execution_count": 6,
   "metadata": {},
   "outputs": [
    {
     "name": "stdout",
     "output_type": "stream",
     "text": [
      "Ontop: 0.402 eV\r\n",
      "Bridge: -0.055 eV\r\n",
      "fcc: -0.199 eV\r\n",
      "hcp: -0.186 eV\r\n"
     ]
    }
   ],
   "source": [
    "!cat ex3_results_Cu111.txt"
   ]
  },
  {
   "cell_type": "code",
   "execution_count": 7,
   "metadata": {},
   "outputs": [
    {
     "name": "stdout",
     "output_type": "stream",
     "text": [
      "Ontop: 0.524 eV\r\n",
      "longbridge: 0.002 eV\r\n",
      "shortbridge: -0.110 eV\r\n",
      "hollow: 0.169 eV\r\n"
     ]
    }
   ],
   "source": [
    "!cat ex3_results_Cu110.txt"
   ]
  },
  {
   "cell_type": "code",
   "execution_count": 17,
   "metadata": {},
   "outputs": [
    {
     "name": "stdout",
     "output_type": "stream",
     "text": [
      "No such task: 14934486, FAILED\r\n",
      "No such task: 14934483, FAILED\r\n",
      "No such task: 14934397, FAILED\r\n",
      "No such task: 14934371, FAILED\r\n",
      "No such task: 14936930, FAILED\r\n",
      "No such task: 14948814, FAILED\r\n",
      "No such task: 14948978, FAILED\r\n",
      "No such task: 14969195, FAILED\r\n",
      "No such task: 14979011, FAILED\r\n",
      "No such task: 14979014, FAILED\r\n",
      "No such task: 14992687, FAILED\r\n",
      "No such task: 14996150, FAILED\r\n",
      "No such task: 15001229, FAILED\r\n",
      "No such task: 15001230, FAILED\r\n",
      "No such task: 15001249, FAILED\r\n",
      "No such task: 15010103, FAILED\r\n",
      "No such task: 15010111, FAILED\r\n",
      "No such task: 15001854, FAILED\r\n",
      "No such task: 15001865, FAILED\r\n",
      "No such task: 15020056, FAILED\r\n",
      "No such task: 15020059, FAILED\r\n",
      "\u001b[94mid       folder name                             res.         age state         time \u001b[0m\r\n",
      "\u001b[93m──────── ────── ──────────────────────────────── ───── ────────── ─────── ────────── \u001b[0m\r\n",
      "14995313 ./     exam2b_supercell_1.py            24:2d 4:01:11:56 \u001b[92mdone   \u001b[0m    6:34:45 \r\n",
      "14995809 ./     exam2b_supercell_1.py            24:2d 4:00:07:29 \u001b[92mdone   \u001b[0m    6:43:01 \r\n",
      "14996134 ./     exam2d_contest_Cu111.py          24:2d 3:23:19:18 \u001b[92mdone   \u001b[0m    5:27:03 \r\n",
      "14997681 ./     exam2a_contest.py                24:2d 3:15:55:12 \u001b[92mdone   \u001b[0m   17:01:05 \r\n",
      "14997683 ./     exam2d_contest_Cu111.py          24:2d 3:15:54:23 \u001b[92mdone   \u001b[0m    5:27:48 \r\n",
      "14997694 ./     exam2d_contest_Cu110.py          24:2d 3:15:51:44 \u001b[92mdone   \u001b[0m    6:52:26 \r\n",
      "15001421 ./     exam2c_RPBE.py                   24:2h 2:22:05:09 \u001b[92mdone   \u001b[0m      11:38 \r\n",
      "15001538 ./     exam2c_RPBE.py                   24:2h 2:21:21:59 \u001b[92mdone   \u001b[0m      12:12 \r\n",
      "15001539 ./     exam2c_PBE.py                    24:2h 2:21:21:33 \u001b[92mdone   \u001b[0m      12:24 \r\n",
      "15001546 ./     exam2c_PBEsol.py                 24:2h 2:21:21:09 \u001b[92mdone   \u001b[0m      12:42 \r\n",
      "15001549 ./     exam2c_LDA.py                    24:2h 2:21:20:31 \u001b[92mdone   \u001b[0m      12:18 \r\n",
      "15001554 ./     exam2a_contest.py                24:2d 2:21:19:29 \u001b[92mdone   \u001b[0m    9:36:45 \r\n",
      "15001556 ./     exam2b_supercell.py              24:2d 2:21:18:43 \u001b[92mdone   \u001b[0m    6:29:26 \r\n",
      "15001677 ./     exam2d_Ru111_absenergy.py        24:2h 2:20:35:20 \u001b[92mdone   \u001b[0m      42:42 \r\n",
      "15001848 ./     exam2d_contest_Cu111.py          24:2d 2:19:20:37 \u001b[92mdone   \u001b[0m    5:03:55 \r\n",
      "15010056 ./     exam2a_contest.py                24:2d 2:01:40:08 \u001b[91mFAILED \u001b[0m 1:12:20:32 \r\n",
      "15010104 ./     exam2d_Ru110_absenergy.py        24:2h 2:01:33:42 \u001b[91mTIMEOUT\u001b[0m    2:32:07 \r\n",
      "15010106 ./     exam2d_Cu110_absenergy.py        24:2h 2:01:31:35 \u001b[91mTIMEOUT\u001b[0m    2:30:00 \r\n",
      "15014267 ./     exam2d_Cu111_absenergy.py        24:1d 1:23:00:49 \u001b[92mdone   \u001b[0m    1:07:17 \r\n",
      "15014268 ./     exam2d_Cu110_absenergy.py        24:1d 1:23:00:39 \u001b[92mdone   \u001b[0m    2:10:17 \r\n",
      "15014270 ./     exam2d_Ru111_absenergy.py        24:1d 1:23:00:30 \u001b[92mdone   \u001b[0m    2:33:02 \r\n",
      "15014271 ./     exam2d_Ru110_absenergy.py        24:1d 1:23:00:18 \u001b[92mdone   \u001b[0m    4:06:45 \r\n",
      "15014272 ./     exam2e_CuRu111_absenergysites.py 24:1d 1:23:00:03 \u001b[92mdone   \u001b[0m    2:31:23 \r\n",
      "15014273 ./     exam2e_CuRu110_absenergysites.py 24:1d 1:22:59:48 \u001b[92mdone   \u001b[0m    2:58:42 \r\n",
      "15014352 ./     exam2c_LDA.py                    24:2h 1:22:30:56 \u001b[92mdone   \u001b[0m      47:50 \r\n",
      "15014353 ./     exam2c_PBE.py                    24:2h 1:22:30:19 \u001b[92mdone   \u001b[0m      46:13 \r\n",
      "15014354 ./     exam2c_PBEsol.py                 24:2h 1:22:29:36 \u001b[92mdone   \u001b[0m      47:19 \r\n",
      "15014359 ./     exam2c_RPBE.py                   24:2h 1:22:29:02 \u001b[92mdone   \u001b[0m      45:09 \r\n",
      "15018640 ./     exam2c_RPBE_Cu.py                24:2h   23:12:24 \u001b[92mdone   \u001b[0m      27:08 \r\n",
      "15018641 ./     exam2c_PBE_Cu.py                 24:2h   23:11:56 \u001b[92mdone   \u001b[0m      20:11 \r\n",
      "15018643 ./     exam2c_PBEsol_Cu.py              24:2h   23:11:18 \u001b[92mdone   \u001b[0m      29:20 \r\n",
      "15018644 ./     exam2c_LDA_Cu.py                 24:2h   23:10:36 \u001b[92mdone   \u001b[0m      31:02 \r\n",
      "15020119 ./     exam2e_CuRu110_absenergysites.py 24:6h    5:00:57 \u001b[92mdone   \u001b[0m    1:46:54 \r\n",
      "15020120 ./     exam2e_CuRu111_absenergysites.py 24:6h    5:00:50 \u001b[92mdone   \u001b[0m    2:31:05 \r\n",
      "15020122 ./     exam2d_Ru110_absenergy.py        24:6h    5:00:40 \u001b[92mdone   \u001b[0m    4:06:35 \r\n",
      "15020124 ./     exam2d_Ru111_absenergy.py        24:6h    5:00:34 \u001b[92mdone   \u001b[0m    1:39:35 \r\n",
      "15020125 ./     exam2d_Cu110_absenergy.py        24:6h    5:00:28 \u001b[92mdone   \u001b[0m    1:19:13 \r\n",
      "15020127 ./     exam2d_Cu111_absenergy.py        24:6h    5:00:22 \u001b[92mdone   \u001b[0m      36:05 \r\n",
      "15020392 ./     exam2e_CuRu110_absenergysites.py 24:6h    2:58:16 \u001b[92mdone   \u001b[0m    1:48:16 \r\n",
      "15020710 ./     exam2d_Ru110_absenergy.py        24:6h       4:17 \u001b[93mrunning\u001b[0m       4:18 \r\n",
      "15020711 ./     exam2d_Ru111_absenergy.py        24:6h       3:47 \u001b[93mrunning\u001b[0m       3:47 \r\n",
      "15020712 ./     exam2d_Cu110_absenergy.py        24:6h       3:32 \u001b[93mrunning\u001b[0m       3:32 \r\n",
      "15020713 ./     exam2d_Cu111_absenergy.py        24:6h       3:19 \u001b[93mrunning\u001b[0m       3:19 \r\n",
      "15020715 ./     exam2d_contest_Cu111.py          24:2d       1:47 queued        0:00 \r\n",
      "15020716 ./     exam2d_contest_Cu110.py          24:2d       1:14 queued        0:00 \r\n",
      "15020718 ./     exam2d_contest_Ru110.py          24:2d       0:19 queued        0:00 \r\n",
      "\u001b[93m──────── ────── ──────────────────────────────── ───── ────────── ─────── ────────── \u001b[0m\r\n",
      "\u001b[92mdone\u001b[0m: 36, \u001b[91mFAILED\u001b[0m: 1, \u001b[91mTIMEOUT\u001b[0m: 2, \u001b[93mrunning\u001b[0m: 4, queued: 3, total: 46\r\n"
     ]
    }
   ],
   "source": [
    "!mq ls"
   ]
  },
  {
   "cell_type": "markdown",
   "metadata": {},
   "source": [
    "## 2.5"
   ]
  },
  {
   "cell_type": "code",
   "execution_count": 60,
   "metadata": {},
   "outputs": [
    {
     "name": "stdout",
     "output_type": "stream",
     "text": [
      "Overwriting exam2e_CuRu111_absenergysites.py\n"
     ]
    }
   ],
   "source": [
    "%%writefile exam2e_CuRu111_absenergysites.py\n",
    "import pickle\n",
    "from ase.build import fcc111, add_adsorbate\n",
    "from ase.lattice.cubic import FaceCenteredCubic\n",
    "from ase.constraints import FixAtoms\n",
    "from ase.parallel import paropen, parprint\n",
    "from ase.optimize import BFGS\n",
    "from gpaw import GPAW, FermiDirac, PW\n",
    "from ase.io import write\n",
    "from ase.build import molecule\n",
    "from ase.visualize import view\n",
    "import numpy as np\n",
    "\n",
    "a_Ru = 3.83\n",
    "vacuum = 10.0\n",
    "height = 1.5 #height of adsorbate\n",
    "\n",
    "# ------clean Ru slab-------\n",
    "slab = fcc111('Ru', a=a_Ru, size=(2, 2, 3), vacuum=vacuum, periodic=True)\n",
    "c = FixAtoms(indices=[atom.index for atom in slab if atom.tag == 3])\n",
    "slab.set_constraint(c)\n",
    "\n",
    "#slab.center(vacuum=vacuum)\n",
    "\n",
    "view(slab)\n",
    "\n",
    "slab.symbols[8] = 'Cu'\n",
    "slab.symbols[9] = 'Cu'\n",
    "slab.symbols[10] = 'Cu'\n",
    "slab.symbols[11] = 'Cu'\n",
    "\n",
    "view(slab)\n",
    "\n",
    "\n",
    "energies_slab = {}\n",
    "\n",
    "\n",
    "# First we relax the slab\n",
    "settings = {'h': 0.20,\n",
    "            'mode': PW(600),\n",
    "            'basis': 'sz(dzp)',\n",
    "            'occupations': FermiDirac(0.05),\n",
    "            'kpts': (8, 8, 1),\n",
    "            'symmetry': {'point_group': False},\n",
    "            'xc': 'PBE'}\n",
    "\n",
    "calc = GPAW(txt='relax-CuRu111_clean.txt', **settings)\n",
    "\n",
    "slab.calc = calc\n",
    "parprint('Relaxing the clean surface slab!')\n",
    "\n",
    "relax = BFGS(slab, trajectory='relax-CuRu111_clean.traj',\n",
    "             logfile='relax-CuRu111_clean.log')\n",
    "relax.run(fmax=0.05)\n",
    "\n",
    "calc.write('CuRu111_clean.gpw')  # We are going to need this gpw file later\n",
    "energies_slab['clean'] = slab.get_potential_energy()\n",
    "\n",
    "# Run through the configurations with a H adsorbate\n",
    "for position in ['ontop', 'bridge', 'fcc', 'hcp']:\n",
    "    parprint('Relaxing {}'.format(position))\n",
    "    atoms = slab.copy()  # Make a new clean copy\n",
    "    \n",
    "    add_adsorbate(slab=atoms, adsorbate='H',\n",
    "                  height=1.5, position=position)\n",
    "    name = 'H-'+position\n",
    "    \n",
    "    calc = GPAW(txt='relax-CuRu111_' + name + '.txt', **settings)\n",
    "    \n",
    "    atoms.calc = calc\n",
    "    relax = BFGS(atoms, trajectory='relax-CuRu111_' + name + '.traj',\n",
    "                 logfile='relax-CuRu111_' + name + '.log')\n",
    "    relax.run(fmax=0.05)\n",
    "    calc.write('CuRu111_' + name + '.gpw')\n",
    "    energies_slab[position] = atoms.get_potential_energy()\n",
    "\n",
    "# Get energies for H2 we calculated earlier\n",
    "with paropen('energies_ex2.pckl', 'rb') as f:\n",
    "    energies = pickle.load(f)\n",
    "\n",
    "# Calculate adsorption energies\n",
    "e_ontop = energies_slab['ontop'] - energies_slab['clean'] - 1/2. * energies['H2', 'PBE']\n",
    "e_bridge = energies_slab['bridge'] - energies_slab['clean'] - 1/2. * energies['H2', 'PBE']\n",
    "e_fcc = energies_slab['fcc'] - energies_slab['clean'] - 1/2. * energies['H2', 'PBE']\n",
    "e_hcp = energies_slab['hcp'] - energies_slab['clean'] - 1/2. * energies['H2', 'PBE']\n",
    "\n",
    "with paropen('ex5_results_CuRu111.txt', 'w') as f:\n",
    "    print('Ontop: {:.3f} eV\\nBridge: {:.3f} eV\\nfcc: {:.3f} eV\\nhcp: {:.3f} eV'.format(e_ontop, e_bridge, e_fcc, e_hcp), file=f)"
   ]
  },
  {
   "cell_type": "code",
   "execution_count": 18,
   "metadata": {},
   "outputs": [
    {
     "name": "stdout",
     "output_type": "stream",
     "text": [
      "No such task: 14934486, FAILED\n",
      "No such task: 14934483, FAILED\n",
      "No such task: 14934397, FAILED\n",
      "No such task: 14934371, FAILED\n",
      "No such task: 14936930, FAILED\n",
      "No such task: 14948814, FAILED\n",
      "No such task: 14948978, FAILED\n",
      "No such task: 14969195, FAILED\n",
      "No such task: 14979011, FAILED\n",
      "No such task: 14979014, FAILED\n",
      "No such task: 14992687, FAILED\n",
      "No such task: 14996150, FAILED\n",
      "No such task: 15001229, FAILED\n",
      "No such task: 15001230, FAILED\n",
      "No such task: 15001249, FAILED\n",
      "No such task: 15010103, FAILED\n",
      "No such task: 15010111, FAILED\n",
      "No such task: 15001854, FAILED\n",
      "No such task: 15001865, FAILED\n",
      "No such task: 15020056, FAILED\n",
      "No such task: 15020059, FAILED\n",
      "\u001b[94m15020120 ./ exam2e_CuRu111_absenergysites.py 24:6h\u001b[0m\n",
      "1 task submitted\n"
     ]
    }
   ],
   "source": [
    "!mq submit -R 24:6h exam2e_CuRu111_absenergysites.py"
   ]
  },
  {
   "cell_type": "code",
   "execution_count": null,
   "metadata": {},
   "outputs": [],
   "source": []
  },
  {
   "cell_type": "code",
   "execution_count": 2,
   "metadata": {},
   "outputs": [
    {
     "name": "stdout",
     "output_type": "stream",
     "text": [
      "Overwriting exam2e_CuRu110_absenergysites.py\n"
     ]
    }
   ],
   "source": [
    "%%writefile exam2e_CuRu110_absenergysites.py\n",
    "import pickle\n",
    "from ase.build import fcc110, add_adsorbate\n",
    "from ase.lattice.cubic import FaceCenteredCubic\n",
    "from ase.constraints import FixAtoms\n",
    "from ase.parallel import paropen, parprint\n",
    "from ase.optimize import BFGS\n",
    "from gpaw import GPAW, FermiDirac, PW\n",
    "from ase.io import write\n",
    "from ase.build import molecule\n",
    "from ase.visualize import view\n",
    "import numpy as np\n",
    "\n",
    "a_Ru = 3.83\n",
    "vacuum = 10.0\n",
    "height = 1.5 #height of adsorbate\n",
    "\n",
    "# ------clean Ru slab-------\n",
    "slab = fcc110('Ru', a=a_Ru, size=(2, 2, 3), vacuum=vacuum, periodic=True)\n",
    "c = FixAtoms(indices=[atom.index for atom in slab if atom.tag == 3])\n",
    "slab.set_constraint(c)\n",
    "\n",
    "#slab.center(vacuum=vacuum)\n",
    "\n",
    "view(slab)\n",
    "\n",
    "slab.symbols[8] = 'Cu'\n",
    "slab.symbols[9] = 'Cu'\n",
    "slab.symbols[10] = 'Cu'\n",
    "slab.symbols[11] = 'Cu'\n",
    "\n",
    "view(slab)\n",
    "\n",
    "\n",
    "energies_slab = {}\n",
    "\n",
    "\n",
    "# First we relax the slab\n",
    "settings = {'h': 0.20,\n",
    "            'mode': PW(600),\n",
    "            'basis': 'sz(dzp)',\n",
    "            'occupations': FermiDirac(0.05),\n",
    "            'kpts': (8, 8, 1),\n",
    "            'symmetry': {'point_group': False},\n",
    "            'xc': 'PBE'}\n",
    "\n",
    "calc = GPAW(txt='relax-CuRu110_clean.txt', **settings)\n",
    "\n",
    "slab.calc = calc\n",
    "parprint('Relaxing the clean surface slab!')\n",
    "\n",
    "relax = BFGS(slab, trajectory='relax-CuRu110_clean.traj',\n",
    "             logfile='relax-CuRu110_clean.log')\n",
    "relax.run(fmax=0.05)\n",
    "\n",
    "calc.write('CuRu110_clean.gpw')  # We are going to need this gpw file later\n",
    "energies_slab['clean'] = slab.get_potential_energy()\n",
    "\n",
    "# Run through the configurations with a H adsorbate\n",
    "for position in ['ontop','longbridge','shortbridge','hollow']:\n",
    "    parprint('Relaxing {}'.format(position))\n",
    "    atoms = slab.copy()  # Make a new clean copy\n",
    "    \n",
    "    add_adsorbate(slab=atoms, adsorbate='H',\n",
    "                  height=1.5, position=position)\n",
    "    name = 'H-'+position\n",
    "    \n",
    "    calc = GPAW(txt='relax-CuRu110_' + name + '.txt', **settings)\n",
    "    \n",
    "    atoms.calc = calc\n",
    "    relax = BFGS(atoms, trajectory='relax-CuRu110_' + name + '.traj',\n",
    "                 logfile='relax-CuRu110_' + name + '.log')\n",
    "    relax.run(fmax=0.05)\n",
    "    calc.write('CuRu110_' + name + '.gpw')\n",
    "    energies_slab[position] = atoms.get_potential_energy()\n",
    "\n",
    "# Get energies for H2 we calculated earlier\n",
    "with paropen('energies_ex2.pckl', 'rb') as f:\n",
    "    energies = pickle.load(f)\n",
    "\n",
    "# Calculate adsorption energies\n",
    "e_ontop = energies_slab['ontop'] - energies_slab['clean'] - 1/2. * energies['H2', 'PBE']\n",
    "e_bridge = energies_slab['longbridge'] - energies_slab['clean'] - 1/2. * energies['H2', 'PBE']\n",
    "e_fcc = energies_slab['shortbridge'] - energies_slab['clean'] - 1/2. * energies['H2', 'PBE']\n",
    "e_hcp = energies_slab['hollow'] - energies_slab['clean'] - 1/2. * energies['H2', 'PBE']\n",
    "\n",
    "with paropen('ex5_results_CuRu110.txt', 'w') as f:\n",
    "    print('Ontop: {:.3f} eV\\nlongbridge: {:.3f} eV\\nshortbridge: {:.3f} eV\\nhollow: {:.3f} eV'.format(e_ontop, e_bridge, e_fcc, e_hcp), file=f)"
   ]
  },
  {
   "cell_type": "code",
   "execution_count": 3,
   "metadata": {},
   "outputs": [
    {
     "name": "stdout",
     "output_type": "stream",
     "text": [
      "No such task: 14934486, FAILED\n",
      "No such task: 14934483, FAILED\n",
      "No such task: 14934397, FAILED\n",
      "No such task: 14934371, FAILED\n",
      "No such task: 14936930, FAILED\n",
      "No such task: 14948814, FAILED\n",
      "No such task: 14948978, FAILED\n",
      "No such task: 14969195, FAILED\n",
      "No such task: 14979011, FAILED\n",
      "No such task: 14979014, FAILED\n",
      "No such task: 14992687, FAILED\n",
      "No such task: 14996150, FAILED\n",
      "No such task: 15001229, FAILED\n",
      "No such task: 15001230, FAILED\n",
      "No such task: 15001249, FAILED\n",
      "No such task: 15010103, FAILED\n",
      "No such task: 15010111, FAILED\n",
      "No such task: 15001854, FAILED\n",
      "No such task: 15001865, FAILED\n",
      "No such task: 15020056, FAILED\n",
      "No such task: 15020059, FAILED\n",
      "\u001b[94m15020392 ./ exam2e_CuRu110_absenergysites.py 24:6h\u001b[0m\n",
      "1 task submitted\n"
     ]
    }
   ],
   "source": [
    "!mq submit -R 24:6h exam2e_CuRu110_absenergysites.py"
   ]
  },
  {
   "cell_type": "code",
   "execution_count": 12,
   "metadata": {},
   "outputs": [
    {
     "name": "stdout",
     "output_type": "stream",
     "text": [
      "Ontop: 0.804 eV\r\n",
      "Bridge: -0.270 eV\r\n",
      "fcc: -0.271 eV\r\n",
      "hcp: -0.172 eV\r\n"
     ]
    }
   ],
   "source": [
    "!cat ex5_results_CuRu111.txt"
   ]
  },
  {
   "cell_type": "code",
   "execution_count": 2,
   "metadata": {
    "scrolled": true
   },
   "outputs": [
    {
     "name": "stdout",
     "output_type": "stream",
     "text": [
      "Ontop: 0.104 eV\r\n",
      "longbridge: -0.337 eV\r\n",
      "shortbridge: -0.314 eV\r\n",
      "hollow: -0.299 eV\r\n"
     ]
    }
   ],
   "source": [
    "!cat ex5_results_CuRu110.txt"
   ]
  },
  {
   "cell_type": "code",
   "execution_count": 44,
   "metadata": {},
   "outputs": [
    {
     "data": {
      "text/plain": [
       "<subprocess.Popen at 0x7f9e16651fd0>"
      ]
     },
     "execution_count": 44,
     "metadata": {},
     "output_type": "execute_result"
    }
   ],
   "source": [
    "import pickle\n",
    "from ase.build import fcc110, add_adsorbate\n",
    "from ase.lattice.cubic import FaceCenteredCubic\n",
    "from ase.constraints import FixAtoms\n",
    "from ase.parallel import paropen, parprint\n",
    "from ase.optimize import BFGS\n",
    "from gpaw import GPAW, FermiDirac, PW\n",
    "from ase.io import write\n",
    "from ase.build import molecule\n",
    "from ase.visualize import view\n",
    "import numpy as np\n",
    "\n",
    "a_Ru = 3.83\n",
    "vacuum = 10.0\n",
    "height = 1.5 #height of adsorbate\n",
    "\n",
    "# ------clean Ru slab-------\n",
    "slab = fcc110('Ru', a=a_Ru, size=(2, 2, 3), vacuum=vacuum, periodic=True)\n",
    "c = FixAtoms(indices=[atom.index for atom in slab if atom.tag == 3])\n",
    "slab.set_constraint(c)\n",
    "\n",
    "#slab.center(vacuum=vacuum)\n",
    "\n",
    "view(slab)\n",
    "\n",
    "slab.symbols[8] = 'Cu'\n",
    "slab.symbols[9] = 'Cu'\n",
    "slab.symbols[10] = 'Cu'\n",
    "slab.symbols[11] = 'Cu'\n",
    "\n",
    "view(slab)"
   ]
  },
  {
   "cell_type": "code",
   "execution_count": 8,
   "metadata": {},
   "outputs": [
    {
     "data": {
      "text/plain": [
       "<subprocess.Popen at 0x7fdee42930d0>"
      ]
     },
     "execution_count": 8,
     "metadata": {},
     "output_type": "execute_result"
    }
   ],
   "source": [
    "import pickle\n",
    "from ase.build import fcc111, add_adsorbate\n",
    "from ase.lattice.cubic import FaceCenteredCubic\n",
    "from ase.constraints import FixAtoms\n",
    "from ase.parallel import paropen, parprint\n",
    "from ase.optimize import BFGS\n",
    "from gpaw import GPAW, FermiDirac, PW\n",
    "from ase.io import write\n",
    "from ase.build import molecule\n",
    "from ase.visualize import view\n",
    "import numpy as np\n",
    "\n",
    "a_Ru = 3.83\n",
    "vacuum = 10.0\n",
    "height = 1.5 #height of adsorbate\n",
    "\n",
    "# ------clean Ru slab-------\n",
    "slab = fcc111('Ru', a=a_Ru, size=(2, 2, 3), vacuum=vacuum, periodic=True)\n",
    "c = FixAtoms(indices=[atom.index for atom in slab if atom.tag == 3])\n",
    "slab.set_constraint(c)\n",
    "\n",
    "#slab.center(vacuum=vacuum)\n",
    "\n",
    "add_adsorbate(slab=slab, adsorbate='H',\n",
    "            height=1.5, position='hcp')\n",
    "\n",
    "view(slab)"
   ]
  }
 ],
 "metadata": {
  "kernelspec": {
   "display_name": "online22",
   "language": "python",
   "name": "online22"
  },
  "language_info": {
   "codemirror_mode": {
    "name": "ipython",
    "version": 3
   },
   "file_extension": ".py",
   "mimetype": "text/x-python",
   "name": "python",
   "nbconvert_exporter": "python",
   "pygments_lexer": "ipython3",
   "version": "3.8.5"
  }
 },
 "nbformat": 4,
 "nbformat_minor": 4
}
